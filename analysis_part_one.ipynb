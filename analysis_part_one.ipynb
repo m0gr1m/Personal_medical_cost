{
 "cells": [
  {
   "cell_type": "markdown",
   "source": [
    "# *Personal medical cost*\r\n",
    "\r\n",
    "Health problems and the high cost of medical services make it an extremely important part of our lives to have health insurance. Not only does it help to cover the cost of any treatment or surgery, but it also gives you the peace of mind that - in the case of an accident - you won't end up with a huge bill that you'll be paying for for the next decade. \r\n",
    "\r\n",
    "**Columns:**\r\n",
    "\r\n",
    "+ **age**: age of primary beneficiary,\r\n",
    "+ **sex**: insurance contractor gender, female, male,\r\n",
    "+ **bmi**: Body mass index, providing an understanding of body, weights that are relatively high or low relative to height, objective index of body weight (kg / m ^ 2) using the ratio of height to weight, ideally 18.5 to 24.9,\r\n",
    "+ **children**: number of children covered by health insurance / Number of dependents,\r\n",
    "+ **smoker**: smoking,\r\n",
    "+ **region**: the beneficiary's residential area in the US, northeast, southeast, southwest, northwest,\r\n",
    "+ **charges**: Individual medical costs billed by health insurance.\r\n",
    "\r\n",
    "The above set of variables will not only allow us to build a regression model that determines the value of the dependent variable: charges, but it can also be used to test some interesting statistical hypotheses.\r\n",
    "\r\n",
    "------\r\n",
    "\r\n",
    "## Main goal\r\n",
    "+ Build a regression model that determines individual medical costs billed by health insurance.\r\n",
    "\r\n",
    "\r\n",
    "## Side goal\r\n",
    "Using selected statistical tests, check whether: \r\n",
    "+ women and men differ by bmi, smoking or charges,\r\n",
    "+ smoking is associated with being overweight,\r\n",
    "+ regions differ by the amount of insurance paid.\r\n",
    "\r\n",
    "------\r\n",
    "\r\n",
    "## Table of contents🐱‍💻:\r\n",
    "\r\n",
    "1. Packages and loading data\r\n",
    "2. Data types and missing values\r\n",
    "3. Making a list of qualitative and quantitative variables\r\n",
    "4. Data overview\r\n",
    "    1. Qualitative variables\r\n",
    "    2. Quantitative variables\r\n",
    "5. Testing statistical hypotheses  \r\n",
    "\r\n",
    "------\r\n"
   ],
   "metadata": {}
  },
  {
   "cell_type": "markdown",
   "source": [
    "# Packages and loading data\r\n",
    "\r\n",
    "------"
   ],
   "metadata": {}
  },
  {
   "cell_type": "code",
   "execution_count": 1,
   "source": [
    "# Packages\r\n",
    "\r\n",
    "import pandas as pd\r\n",
    "import numpy as np\r\n",
    "import matplotlib as plt\r\n",
    "import seaborn as sns\r\n",
    "from scipy.stats import kurtosis, skew, shapiro, mannwhitneyu, chi2_contingency, kruskal"
   ],
   "outputs": [],
   "metadata": {}
  },
  {
   "cell_type": "code",
   "execution_count": 2,
   "source": [
    "import warnings\r\n",
    "warnings.simplefilter(action=\"ignore\", category=FutureWarning)"
   ],
   "outputs": [],
   "metadata": {}
  },
  {
   "cell_type": "code",
   "execution_count": 2,
   "source": [
    "# Loading data\r\n",
    "\r\n",
    "df = pd.read_csv(\"C:/Users/chole/Desktop/Personal_medical_cost/insurance.csv\")\r\n",
    "df.head()"
   ],
   "outputs": [
    {
     "output_type": "execute_result",
     "data": {
      "text/html": [
       "<div>\n",
       "<style scoped>\n",
       "    .dataframe tbody tr th:only-of-type {\n",
       "        vertical-align: middle;\n",
       "    }\n",
       "\n",
       "    .dataframe tbody tr th {\n",
       "        vertical-align: top;\n",
       "    }\n",
       "\n",
       "    .dataframe thead th {\n",
       "        text-align: right;\n",
       "    }\n",
       "</style>\n",
       "<table border=\"1\" class=\"dataframe\">\n",
       "  <thead>\n",
       "    <tr style=\"text-align: right;\">\n",
       "      <th></th>\n",
       "      <th>age</th>\n",
       "      <th>sex</th>\n",
       "      <th>bmi</th>\n",
       "      <th>children</th>\n",
       "      <th>smoker</th>\n",
       "      <th>region</th>\n",
       "      <th>charges</th>\n",
       "    </tr>\n",
       "  </thead>\n",
       "  <tbody>\n",
       "    <tr>\n",
       "      <th>0</th>\n",
       "      <td>19</td>\n",
       "      <td>female</td>\n",
       "      <td>27.900</td>\n",
       "      <td>0</td>\n",
       "      <td>yes</td>\n",
       "      <td>southwest</td>\n",
       "      <td>16884.92400</td>\n",
       "    </tr>\n",
       "    <tr>\n",
       "      <th>1</th>\n",
       "      <td>18</td>\n",
       "      <td>male</td>\n",
       "      <td>33.770</td>\n",
       "      <td>1</td>\n",
       "      <td>no</td>\n",
       "      <td>southeast</td>\n",
       "      <td>1725.55230</td>\n",
       "    </tr>\n",
       "    <tr>\n",
       "      <th>2</th>\n",
       "      <td>28</td>\n",
       "      <td>male</td>\n",
       "      <td>33.000</td>\n",
       "      <td>3</td>\n",
       "      <td>no</td>\n",
       "      <td>southeast</td>\n",
       "      <td>4449.46200</td>\n",
       "    </tr>\n",
       "    <tr>\n",
       "      <th>3</th>\n",
       "      <td>33</td>\n",
       "      <td>male</td>\n",
       "      <td>22.705</td>\n",
       "      <td>0</td>\n",
       "      <td>no</td>\n",
       "      <td>northwest</td>\n",
       "      <td>21984.47061</td>\n",
       "    </tr>\n",
       "    <tr>\n",
       "      <th>4</th>\n",
       "      <td>32</td>\n",
       "      <td>male</td>\n",
       "      <td>28.880</td>\n",
       "      <td>0</td>\n",
       "      <td>no</td>\n",
       "      <td>northwest</td>\n",
       "      <td>3866.85520</td>\n",
       "    </tr>\n",
       "  </tbody>\n",
       "</table>\n",
       "</div>"
      ],
      "text/plain": [
       "   age     sex     bmi  children smoker     region      charges\n",
       "0   19  female  27.900         0    yes  southwest  16884.92400\n",
       "1   18    male  33.770         1     no  southeast   1725.55230\n",
       "2   28    male  33.000         3     no  southeast   4449.46200\n",
       "3   33    male  22.705         0     no  northwest  21984.47061\n",
       "4   32    male  28.880         0     no  northwest   3866.85520"
      ]
     },
     "metadata": {},
     "execution_count": 2
    }
   ],
   "metadata": {}
  },
  {
   "cell_type": "markdown",
   "source": [
    "# Data types and missing values\r\n",
    "\r\n",
    "------"
   ],
   "metadata": {}
  },
  {
   "cell_type": "code",
   "execution_count": 4,
   "source": [
    "# Checking the data types\r\n",
    "\r\n",
    "df.dtypes"
   ],
   "outputs": [
    {
     "output_type": "execute_result",
     "data": {
      "text/plain": [
       "age           int64\n",
       "sex          object\n",
       "bmi         float64\n",
       "children      int64\n",
       "smoker       object\n",
       "region       object\n",
       "charges     float64\n",
       "dtype: object"
      ]
     },
     "metadata": {},
     "execution_count": 4
    }
   ],
   "metadata": {}
  },
  {
   "cell_type": "code",
   "execution_count": 5,
   "source": [
    "# Checking the percentage of missing values\r\n",
    "\r\n",
    "df.isnull().sum()/len(df)*100"
   ],
   "outputs": [
    {
     "output_type": "execute_result",
     "data": {
      "text/plain": [
       "age         0.0\n",
       "sex         0.0\n",
       "bmi         0.0\n",
       "children    0.0\n",
       "smoker      0.0\n",
       "region      0.0\n",
       "charges     0.0\n",
       "dtype: float64"
      ]
     },
     "metadata": {},
     "execution_count": 5
    }
   ],
   "metadata": {}
  },
  {
   "cell_type": "markdown",
   "source": [
    "# Making a list of qualitative and quantitative variables\r\n",
    "\r\n",
    "------"
   ],
   "metadata": {}
  },
  {
   "cell_type": "code",
   "execution_count": 3,
   "source": [
    "# List of quantitative variables\r\n",
    "categ = ['sex', 'smoker', 'region']\r\n",
    "# List of qualitative variables\r\n",
    "numer = ['age', 'bmi', 'children', 'charges']"
   ],
   "outputs": [],
   "metadata": {}
  },
  {
   "cell_type": "markdown",
   "source": [
    "# Data overview\r\n",
    "\r\n",
    "------"
   ],
   "metadata": {}
  },
  {
   "cell_type": "markdown",
   "source": [
    "## Qualitative variables"
   ],
   "metadata": {}
  },
  {
   "cell_type": "code",
   "execution_count": 9,
   "source": [
    "# Unique values\r\n",
    "\r\n",
    "df.drop(columns=numer).nunique()"
   ],
   "outputs": [
    {
     "output_type": "execute_result",
     "data": {
      "text/plain": [
       "sex       2\n",
       "smoker    2\n",
       "region    4\n",
       "dtype: int64"
      ]
     },
     "metadata": {},
     "execution_count": 9
    }
   ],
   "metadata": {}
  },
  {
   "cell_type": "code",
   "execution_count": 13,
   "source": [
    "# Levels of unique values\r\n",
    "\r\n",
    "print(\"Gender:\")\r\n",
    "print(list(df.sex.unique()))\r\n",
    "print()\r\n",
    "print(\"Smoking:\")\r\n",
    "print(list(df.smoker.unique()))\r\n",
    "print()\r\n",
    "print(\"Region:\")\r\n",
    "print(list(df.region.unique()))"
   ],
   "outputs": [
    {
     "output_type": "stream",
     "name": "stdout",
     "text": [
      "Gender:\n",
      "['female', 'male']\n",
      "\n",
      "Smoking:\n",
      "['yes', 'no']\n",
      "\n",
      "Region:\n",
      "['southwest', 'southeast', 'northwest', 'northeast']\n"
     ]
    }
   ],
   "metadata": {}
  },
  {
   "cell_type": "code",
   "execution_count": 14,
   "source": [
    "count = 1\r\n",
    "# Removal of top and right side of axis\r\n",
    "custom_params = {\"axes.spines.right\": False, \"axes.spines.top\": False}\r\n",
    "# Setting the chart display style\r\n",
    "sns.set_style(style=\"ticks\", rc=custom_params)\r\n",
    "# Setting the chart size\r\n",
    "plt.pyplot.subplots(figsize=(14, 4))\r\n",
    "\r\n",
    "# Loop to make graphs\r\n",
    "for col in df[[\"sex\", \"smoker\", \"region\"]]:\r\n",
    "    plt.pyplot.subplot(1,3, count)\r\n",
    "    sns.countplot(df[col])\r\n",
    "    count+=1"
   ],
   "outputs": [
    {
     "output_type": "display_data",
     "data": {
      "image/png": "[encoded data removed]",
      "text/plain": [
       "<Figure size 1008x288 with 3 Axes>"
      ]
     },
     "metadata": {}
    }
   ],
   "metadata": {}
  },
  {
   "cell_type": "markdown",
   "source": [
    "## Quantitative variables"
   ],
   "metadata": {}
  },
  {
   "cell_type": "code",
   "execution_count": 15,
   "source": [
    "# Descriptive statistics\r\n",
    "\r\n",
    "df.loc[:,numer].describe()"
   ],
   "outputs": [
    {
     "output_type": "execute_result",
     "data": {
      "text/html": [
       "<div>\n",
       "<style scoped>\n",
       "    .dataframe tbody tr th:only-of-type {\n",
       "        vertical-align: middle;\n",
       "    }\n",
       "\n",
       "    .dataframe tbody tr th {\n",
       "        vertical-align: top;\n",
       "    }\n",
       "\n",
       "    .dataframe thead th {\n",
       "        text-align: right;\n",
       "    }\n",
       "</style>\n",
       "<table border=\"1\" class=\"dataframe\">\n",
       "  <thead>\n",
       "    <tr style=\"text-align: right;\">\n",
       "      <th></th>\n",
       "      <th>age</th>\n",
       "      <th>bmi</th>\n",
       "      <th>children</th>\n",
       "      <th>charges</th>\n",
       "    </tr>\n",
       "  </thead>\n",
       "  <tbody>\n",
       "    <tr>\n",
       "      <th>count</th>\n",
       "      <td>1338.000000</td>\n",
       "      <td>1338.000000</td>\n",
       "      <td>1338.000000</td>\n",
       "      <td>1338.000000</td>\n",
       "    </tr>\n",
       "    <tr>\n",
       "      <th>mean</th>\n",
       "      <td>39.207025</td>\n",
       "      <td>30.663397</td>\n",
       "      <td>1.094918</td>\n",
       "      <td>13270.422265</td>\n",
       "    </tr>\n",
       "    <tr>\n",
       "      <th>std</th>\n",
       "      <td>14.049960</td>\n",
       "      <td>6.098187</td>\n",
       "      <td>1.205493</td>\n",
       "      <td>12110.011237</td>\n",
       "    </tr>\n",
       "    <tr>\n",
       "      <th>min</th>\n",
       "      <td>18.000000</td>\n",
       "      <td>15.960000</td>\n",
       "      <td>0.000000</td>\n",
       "      <td>1121.873900</td>\n",
       "    </tr>\n",
       "    <tr>\n",
       "      <th>25%</th>\n",
       "      <td>27.000000</td>\n",
       "      <td>26.296250</td>\n",
       "      <td>0.000000</td>\n",
       "      <td>4740.287150</td>\n",
       "    </tr>\n",
       "    <tr>\n",
       "      <th>50%</th>\n",
       "      <td>39.000000</td>\n",
       "      <td>30.400000</td>\n",
       "      <td>1.000000</td>\n",
       "      <td>9382.033000</td>\n",
       "    </tr>\n",
       "    <tr>\n",
       "      <th>75%</th>\n",
       "      <td>51.000000</td>\n",
       "      <td>34.693750</td>\n",
       "      <td>2.000000</td>\n",
       "      <td>16639.912515</td>\n",
       "    </tr>\n",
       "    <tr>\n",
       "      <th>max</th>\n",
       "      <td>64.000000</td>\n",
       "      <td>53.130000</td>\n",
       "      <td>5.000000</td>\n",
       "      <td>63770.428010</td>\n",
       "    </tr>\n",
       "  </tbody>\n",
       "</table>\n",
       "</div>"
      ],
      "text/plain": [
       "               age          bmi     children       charges\n",
       "count  1338.000000  1338.000000  1338.000000   1338.000000\n",
       "mean     39.207025    30.663397     1.094918  13270.422265\n",
       "std      14.049960     6.098187     1.205493  12110.011237\n",
       "min      18.000000    15.960000     0.000000   1121.873900\n",
       "25%      27.000000    26.296250     0.000000   4740.287150\n",
       "50%      39.000000    30.400000     1.000000   9382.033000\n",
       "75%      51.000000    34.693750     2.000000  16639.912515\n",
       "max      64.000000    53.130000     5.000000  63770.428010"
      ]
     },
     "metadata": {},
     "execution_count": 15
    }
   ],
   "metadata": {}
  },
  {
   "cell_type": "code",
   "execution_count": 16,
   "source": [
    "# Coefficient of variation\r\n",
    "\r\n",
    "\"\"\"\r\n",
    "The coefficient of variation provides a relative measure of variation \r\n",
    "thus allowing comparison of variables with different units of measurement.\r\n",
    "\r\n",
    "It characterizes the ratio of the intensity of the secondary causes to the primary causes.\r\n",
    "\r\n",
    "Source: Biostatystyka, red. A.Stanisz (book)\r\n",
    "\"\"\"\r\n",
    "def cv(x): return np.std(x) / np.mean(x) * 100\r\n",
    "df.loc[:, numer].apply(cv)"
   ],
   "outputs": [
    {
     "output_type": "execute_result",
     "data": {
      "text/plain": [
       "age          35.821919\n",
       "bmi          19.880079\n",
       "children    110.057777\n",
       "charges      91.221551\n",
       "dtype: float64"
      ]
     },
     "metadata": {},
     "execution_count": 16
    }
   ],
   "metadata": {}
  },
  {
   "cell_type": "code",
   "execution_count": 17,
   "source": [
    "# Kurtosis\r\n",
    "\r\n",
    "\"\"\"\r\n",
    "Kurtosis is a measure of outliers. \r\n",
    "The higher its value, the more likely there are outliers in the database. \r\n",
    "The lower the value, the more the results are clustered around the mean.\r\n",
    "Safe threshold: K=|3|. \r\n",
    "\r\n",
    "Source: Biostatystyka, red. A.Stanisz (book)\r\n",
    "\"\"\"\r\n",
    "df.loc[:, numer].apply(kurtosis, bias=False)"
   ],
   "outputs": [
    {
     "output_type": "execute_result",
     "data": {
      "text/plain": [
       "age        -1.245088\n",
       "bmi        -0.050732\n",
       "children    0.202454\n",
       "charges     1.606299\n",
       "dtype: float64"
      ]
     },
     "metadata": {},
     "execution_count": 17
    }
   ],
   "metadata": {}
  },
  {
   "cell_type": "code",
   "execution_count": 18,
   "source": [
    "# Skewness\r\n",
    "\r\n",
    "\"\"\"\r\n",
    "Skewness, in statistics, is the degree of asymmetry observed in a probability distribution.\r\n",
    "Distributions can exhibit right (positive) skewness or left (negative) skewness to varying degrees. \r\n",
    "A normal distribution (bell curve) exhibits zero skewness.\r\n",
    "\r\n",
    "The mean of positively skewed data will be greater than the median. \r\n",
    "The mean of negatively skewed data will be less than the median.\r\n",
    "\r\n",
    "Source: https://www.investopedia.com/terms/s/skewness.asp\r\n",
    "\"\"\"\r\n",
    "df.loc[:, numer].apply(skew, bias=False)"
   ],
   "outputs": [
    {
     "output_type": "execute_result",
     "data": {
      "text/plain": [
       "age         0.055673\n",
       "bmi         0.284047\n",
       "children    0.938380\n",
       "charges     1.515880\n",
       "dtype: float64"
      ]
     },
     "metadata": {},
     "execution_count": 18
    }
   ],
   "metadata": {}
  },
  {
   "cell_type": "code",
   "execution_count": 19,
   "source": [
    "# Density/distribution graphs\r\n",
    "\r\n",
    "count = 1\r\n",
    "# Removal of top and right side of axis\r\n",
    "custom_params = {\"axes.spines.right\": False, \"axes.spines.top\": False}\r\n",
    "# Setting the chart display style\r\n",
    "sns.set_style(style=\"ticks\", rc=custom_params)\r\n",
    "# Setting the chart size\r\n",
    "plt.pyplot.subplots(figsize=(8, 10))\r\n",
    "\r\n",
    "# Loop to make graphs\r\n",
    "for col in df[[\"age\", \"bmi\", \"charges\"]]:\r\n",
    "    plt.pyplot.subplot(3,1, count)\r\n",
    "    sns.kdeplot(df[col],\r\n",
    "                shade=True,\r\n",
    "                color='k')\r\n",
    "    count+=1"
   ],
   "outputs": [
    {
     "output_type": "display_data",
     "data": {
      "image/png": "[encoded data removed]",
      "text/plain": [
       "<Figure size 576x720 with 3 Axes>"
      ]
     },
     "metadata": {}
    }
   ],
   "metadata": {}
  },
  {
   "cell_type": "code",
   "execution_count": 68,
   "source": [
    "# Test of normality\r\n",
    "\r\n",
    "\"\"\"\r\n",
    "The Shapiro-Wilk test is a test of normality. \r\n",
    "It is used to determine whether or not a sample comes from a normal distribution.\r\n",
    "\r\n",
    "H0: the distribution of the data --are not-- significantly different from normal distribution.\r\n",
    "H1: the distribution of the data --are------ significantly different from normal distribution.\r\n",
    "\r\n",
    "Source: https://www.statology.org/shapiro-wilk-test-python/\r\n",
    "\"\"\"\r\n",
    "# Divide the dataset by category to meet hypothesis testing assumptions.\r\n",
    "df_female = df.loc[df.loc[:,\"sex\"]==\"female\"]\r\n",
    "df_male = df.loc[df.loc[:,\"sex\"]==\"male\"]\r\n",
    "\r\n",
    "df_smoker = df.loc[df.loc[:,\"smoker\"]==\"yes\"]\r\n",
    "df_n_smoker = df.loc[df.loc[:,\"smoker\"]==\"no\"]\r\n",
    "\r\n",
    "df_southW = df.loc[df.loc[:,\"region\"]==\"southwest\"]\r\n",
    "df_southE = df.loc[df.loc[:,\"region\"]==\"southeast\"]\r\n",
    "df_northW = df.loc[df.loc[:,\"region\"]==\"northwest\"]\r\n",
    "df_northE = df.loc[df.loc[:,\"region\"]==\"northeast\"]\r\n",
    "\r\n",
    "# Database list\r\n",
    "data_sets = [df_male, df_female, df_smoker, df_n_smoker, df_southW, df_southE, df_northW, df_northE]\r\n",
    "\r\n",
    "# Empty list for results\r\n",
    "pf = []\r\n",
    "\r\n",
    "# Loop for test of normality\r\n",
    "for i in data_sets:\r\n",
    "    i = i.loc[:,['age', 'bmi', 'charges']].apply(shapiro)\r\n",
    "    pf.append(i)"
   ],
   "outputs": [],
   "metadata": {}
  },
  {
   "cell_type": "code",
   "execution_count": 31,
   "source": [
    "# Outliers\r\n",
    "\r\n",
    "\"\"\"\r\n",
    "An outlier is an observation that lies an abnormal distance from other values in a random sample from a population. \r\n",
    "In a sense, this definition leaves it up to the analyst to decide what will be considered abnormal. \r\n",
    "Before abnormal observations can be singled out, it is necessary to characterize normal observations.\r\n",
    "\r\n",
    "Source: https://www.itl.nist.gov/div898/handbook/prc/section1/prc16.htm\r\n",
    "\"\"\"\r\n",
    "count = 1\r\n",
    "# Removal of top and right side of axis\r\n",
    "custom_params = {\"axes.spines.right\": False, \"axes.spines.top\": False}\r\n",
    "# Setting the chart display style\r\n",
    "sns.set_style(style=\"ticks\", rc=custom_params)\r\n",
    "# Setting the chart size\r\n",
    "plt.pyplot.subplots(figsize=(8, 10))\r\n",
    "\r\n",
    "# Loop to make graphs\r\n",
    "for col in df[[\"age\", \"bmi\", \"charges\"]]:\r\n",
    "    plt.pyplot.subplot(3,1, count)\r\n",
    "    sns.boxplot(df[col],\r\n",
    "                orient=\"h\",\r\n",
    "                color='y')\r\n",
    "    count+=1"
   ],
   "outputs": [
    {
     "output_type": "display_data",
     "data": {
      "image/png": "[encoded data removed]",
      "text/plain": [
       "<Figure size 576x720 with 3 Axes>"
      ]
     },
     "metadata": {}
    }
   ],
   "metadata": {}
  },
  {
   "cell_type": "code",
   "execution_count": 32,
   "source": [
    "# Pearson’s correlation\r\n",
    "\r\n",
    "\"\"\"\r\n",
    "Correlation between sets of data is a measure of how well they are related. \r\n",
    "The most common measure of correlation in stats is the Pearson Correlation. \r\n",
    "It shows the linear relationship between two sets of data. \r\n",
    "It is not able to tell the difference between dependent variables and independent variables.\r\n",
    "\r\n",
    "Source: https://www.statisticshowto.com/probability-and-statistics/correlation-coefficient-formula/\r\n",
    "\"\"\"\r\n",
    "plt.rcParams['figure.figsize'] = [10, 8]  # for size\r\n",
    "\r\n",
    "sns.heatmap(df.loc[:,numer].corr(), \r\n",
    "            annot=True, \r\n",
    "            cmap='coolwarm', \r\n",
    "            vmax=1, vmin=-1, # cause corr can be in range from 1 to -1\r\n",
    "            mask=np.triu(df.loc[:,numer].corr())).set_title(\"Correlogram\")"
   ],
   "outputs": [
    {
     "output_type": "execute_result",
     "data": {
      "text/plain": [
       "Text(0.5, 1.0, 'Correlogram')"
      ]
     },
     "metadata": {},
     "execution_count": 32
    },
    {
     "output_type": "display_data",
     "data": {
      "image/png": "[encoded data removed]",
      "text/plain": [
       "<Figure size 720x576 with 2 Axes>"
      ]
     },
     "metadata": {}
    }
   ],
   "metadata": {}
  },
  {
   "cell_type": "markdown",
   "source": [
    "# Testing statistical hypotheses\r\n",
    "\r\n",
    "------"
   ],
   "metadata": {}
  },
  {
   "cell_type": "markdown",
   "source": [
    "## whether women and men differ by bmi"
   ],
   "metadata": {}
  },
  {
   "cell_type": "code",
   "execution_count": 33,
   "source": [
    "df.loc[:,[\"sex\",\"bmi\"]].groupby(\"sex\").mean()"
   ],
   "outputs": [
    {
     "output_type": "execute_result",
     "data": {
      "text/html": [
       "<div>\n",
       "<style scoped>\n",
       "    .dataframe tbody tr th:only-of-type {\n",
       "        vertical-align: middle;\n",
       "    }\n",
       "\n",
       "    .dataframe tbody tr th {\n",
       "        vertical-align: top;\n",
       "    }\n",
       "\n",
       "    .dataframe thead th {\n",
       "        text-align: right;\n",
       "    }\n",
       "</style>\n",
       "<table border=\"1\" class=\"dataframe\">\n",
       "  <thead>\n",
       "    <tr style=\"text-align: right;\">\n",
       "      <th></th>\n",
       "      <th>bmi</th>\n",
       "    </tr>\n",
       "    <tr>\n",
       "      <th>sex</th>\n",
       "      <th></th>\n",
       "    </tr>\n",
       "  </thead>\n",
       "  <tbody>\n",
       "    <tr>\n",
       "      <th>female</th>\n",
       "      <td>30.377749</td>\n",
       "    </tr>\n",
       "    <tr>\n",
       "      <th>male</th>\n",
       "      <td>30.943129</td>\n",
       "    </tr>\n",
       "  </tbody>\n",
       "</table>\n",
       "</div>"
      ],
      "text/plain": [
       "              bmi\n",
       "sex              \n",
       "female  30.377749\n",
       "male    30.943129"
      ]
     },
     "metadata": {},
     "execution_count": 33
    }
   ],
   "metadata": {}
  },
  {
   "cell_type": "code",
   "execution_count": 34,
   "source": [
    "print(\"Male\")\r\n",
    "print(pf[0])\r\n",
    "print()\r\n",
    "print(\"Female\")\r\n",
    "print(pf[1])"
   ],
   "outputs": [
    {
     "output_type": "stream",
     "name": "stdout",
     "text": [
      "Male\n",
      "            age       bmi       charges\n",
      "0  9.438887e-01  0.993048  8.228140e-01\n",
      "1  2.624835e-15  0.003131  1.178851e-26\n",
      "\n",
      "Female\n",
      "            age       bmi       charges\n",
      "0  9.453153e-01  0.993026  8.053942e-01\n",
      "1  6.549281e-15  0.003543  1.830528e-27\n"
     ]
    }
   ],
   "metadata": {}
  },
  {
   "cell_type": "markdown",
   "source": [
    "**The Mann-Whitney U test** is a nonparametric statistical significance test for determining whether two independent samples were drawn from a population with the same distribution. The test determines whether it is equally likely that any randomly selected observation from one sample will be greater or less than a sample in the other distribution [(Source)](https://machinelearningmastery.com/nonparametric-statistical-significance-tests-in-python/).\r\n",
    "\r\n",
    "> H0: the sample distributions are equal. <br />\r\n",
    "> H1: the sample distributions are not equal.\r\n",
    "\r\n",
    "$\\alpha = 0.05$"
   ],
   "metadata": {}
  },
  {
   "cell_type": "code",
   "execution_count": 35,
   "source": [
    "mannwhitneyu(df_female[[\"bmi\"]], df_male[[\"bmi\"]])"
   ],
   "outputs": [
    {
     "output_type": "execute_result",
     "data": {
      "text/plain": [
       "MannwhitneyuResult(statistic=array([212180.]), pvalue=array([0.10140128]))"
      ]
     },
     "metadata": {},
     "execution_count": 35
    }
   ],
   "metadata": {}
  },
  {
   "cell_type": "markdown",
   "source": [
    "**There is no evidence to reject H0.**"
   ],
   "metadata": {}
  },
  {
   "cell_type": "markdown",
   "source": [
    "## whether women and men differ by bmi smoking"
   ],
   "metadata": {}
  },
  {
   "cell_type": "code",
   "execution_count": 36,
   "source": [
    "smoker_gender_crosstable = pd.crosstab(df.loc[:, \"sex\"], df.loc[:, \"smoker\"])\r\n",
    "smoker_gender_crosstable"
   ],
   "outputs": [
    {
     "output_type": "execute_result",
     "data": {
      "text/html": [
       "<div>\n",
       "<style scoped>\n",
       "    .dataframe tbody tr th:only-of-type {\n",
       "        vertical-align: middle;\n",
       "    }\n",
       "\n",
       "    .dataframe tbody tr th {\n",
       "        vertical-align: top;\n",
       "    }\n",
       "\n",
       "    .dataframe thead th {\n",
       "        text-align: right;\n",
       "    }\n",
       "</style>\n",
       "<table border=\"1\" class=\"dataframe\">\n",
       "  <thead>\n",
       "    <tr style=\"text-align: right;\">\n",
       "      <th>smoker</th>\n",
       "      <th>no</th>\n",
       "      <th>yes</th>\n",
       "    </tr>\n",
       "    <tr>\n",
       "      <th>sex</th>\n",
       "      <th></th>\n",
       "      <th></th>\n",
       "    </tr>\n",
       "  </thead>\n",
       "  <tbody>\n",
       "    <tr>\n",
       "      <th>female</th>\n",
       "      <td>547</td>\n",
       "      <td>115</td>\n",
       "    </tr>\n",
       "    <tr>\n",
       "      <th>male</th>\n",
       "      <td>517</td>\n",
       "      <td>159</td>\n",
       "    </tr>\n",
       "  </tbody>\n",
       "</table>\n",
       "</div>"
      ],
      "text/plain": [
       "smoker   no  yes\n",
       "sex             \n",
       "female  547  115\n",
       "male    517  159"
      ]
     },
     "metadata": {},
     "execution_count": 36
    }
   ],
   "metadata": {}
  },
  {
   "cell_type": "markdown",
   "source": [
    "**The Chi-square test of independence** is one of the most useful statistics for testing hypotheses when the variables are nominal, as often happens in clinical research. Unlike most statistics, the Chi-squarecan provide information not only on the significance of any observed differences, but also provides detailed information on exactly which categories account for any differences found. Thus, the amount and detail of information this statistic can provide renders it one of the most useful tools in the researcher’s array of available analysis tools [(Source)](https://www.ncbi.nlm.nih.gov/pmc/articles/PMC3900058/). \r\n",
    "\r\n",
    "> H0: the features are independent. <br />\r\n",
    "> H1: the features are not independent.\r\n",
    "\r\n",
    "$\\alpha = 0.05$"
   ],
   "metadata": {}
  },
  {
   "cell_type": "code",
   "execution_count": 37,
   "source": [
    "chi2_contingency(smoker_gender_crosstable)"
   ],
   "outputs": [
    {
     "output_type": "execute_result",
     "data": {
      "text/plain": [
       "(7.39291081459996,\n",
       " 0.006548143503580696,\n",
       " 1,\n",
       " array([[526.43348281, 135.56651719],\n",
       "        [537.56651719, 138.43348281]]))"
      ]
     },
     "metadata": {},
     "execution_count": 37
    }
   ],
   "metadata": {}
  },
  {
   "cell_type": "markdown",
   "source": [
    "**We reject H0 in favor of H1.**"
   ],
   "metadata": {}
  },
  {
   "cell_type": "markdown",
   "source": [
    "## whether women and men differ by charges"
   ],
   "metadata": {}
  },
  {
   "cell_type": "code",
   "execution_count": 38,
   "source": [
    "df[['sex', 'charges']].groupby(\"sex\").mean()"
   ],
   "outputs": [
    {
     "output_type": "execute_result",
     "data": {
      "text/html": [
       "<div>\n",
       "<style scoped>\n",
       "    .dataframe tbody tr th:only-of-type {\n",
       "        vertical-align: middle;\n",
       "    }\n",
       "\n",
       "    .dataframe tbody tr th {\n",
       "        vertical-align: top;\n",
       "    }\n",
       "\n",
       "    .dataframe thead th {\n",
       "        text-align: right;\n",
       "    }\n",
       "</style>\n",
       "<table border=\"1\" class=\"dataframe\">\n",
       "  <thead>\n",
       "    <tr style=\"text-align: right;\">\n",
       "      <th></th>\n",
       "      <th>charges</th>\n",
       "    </tr>\n",
       "    <tr>\n",
       "      <th>sex</th>\n",
       "      <th></th>\n",
       "    </tr>\n",
       "  </thead>\n",
       "  <tbody>\n",
       "    <tr>\n",
       "      <th>female</th>\n",
       "      <td>12569.578844</td>\n",
       "    </tr>\n",
       "    <tr>\n",
       "      <th>male</th>\n",
       "      <td>13956.751178</td>\n",
       "    </tr>\n",
       "  </tbody>\n",
       "</table>\n",
       "</div>"
      ],
      "text/plain": [
       "             charges\n",
       "sex                 \n",
       "female  12569.578844\n",
       "male    13956.751178"
      ]
     },
     "metadata": {},
     "execution_count": 38
    }
   ],
   "metadata": {}
  },
  {
   "cell_type": "code",
   "execution_count": 39,
   "source": [
    "mannwhitneyu(df_female[[\"charges\"]], df_male[[\"charges\"]])"
   ],
   "outputs": [
    {
     "output_type": "execute_result",
     "data": {
      "text/plain": [
       "MannwhitneyuResult(statistic=array([221304.]), pvalue=array([0.72865109]))"
      ]
     },
     "metadata": {},
     "execution_count": 39
    }
   ],
   "metadata": {}
  },
  {
   "cell_type": "markdown",
   "source": [
    "**There is no evidence to reject H0.**"
   ],
   "metadata": {}
  },
  {
   "cell_type": "markdown",
   "source": [
    "## whether smoking differ by bmi"
   ],
   "metadata": {}
  },
  {
   "cell_type": "code",
   "execution_count": 40,
   "source": [
    "print(\"Smoker\")\r\n",
    "print(pf[2])\r\n",
    "print()\r\n",
    "print(\"Non smoker\")\r\n",
    "print(pf[3])"
   ],
   "outputs": [
    {
     "output_type": "stream",
     "name": "stdout",
     "text": [
      "Smoker\n",
      "            age       bmi       charges\n",
      "0  9.481711e-01  0.990856  9.395522e-01\n",
      "1  2.889620e-08  0.085191  3.625188e-09\n",
      "\n",
      "Non smoker\n",
      "            age       bmi       charges\n",
      "0  9.429171e-01  0.994250  8.728628e-01\n",
      "1  8.044311e-20  0.000421  1.445590e-28\n"
     ]
    }
   ],
   "metadata": {}
  },
  {
   "cell_type": "code",
   "execution_count": 42,
   "source": [
    "df.loc[:,[\"smoker\",\"bmi\"]].groupby(\"smoker\").mean()"
   ],
   "outputs": [
    {
     "output_type": "execute_result",
     "data": {
      "text/html": [
       "<div>\n",
       "<style scoped>\n",
       "    .dataframe tbody tr th:only-of-type {\n",
       "        vertical-align: middle;\n",
       "    }\n",
       "\n",
       "    .dataframe tbody tr th {\n",
       "        vertical-align: top;\n",
       "    }\n",
       "\n",
       "    .dataframe thead th {\n",
       "        text-align: right;\n",
       "    }\n",
       "</style>\n",
       "<table border=\"1\" class=\"dataframe\">\n",
       "  <thead>\n",
       "    <tr style=\"text-align: right;\">\n",
       "      <th></th>\n",
       "      <th>bmi</th>\n",
       "    </tr>\n",
       "    <tr>\n",
       "      <th>smoker</th>\n",
       "      <th></th>\n",
       "    </tr>\n",
       "  </thead>\n",
       "  <tbody>\n",
       "    <tr>\n",
       "      <th>no</th>\n",
       "      <td>30.651795</td>\n",
       "    </tr>\n",
       "    <tr>\n",
       "      <th>yes</th>\n",
       "      <td>30.708449</td>\n",
       "    </tr>\n",
       "  </tbody>\n",
       "</table>\n",
       "</div>"
      ],
      "text/plain": [
       "              bmi\n",
       "smoker           \n",
       "no      30.651795\n",
       "yes     30.708449"
      ]
     },
     "metadata": {},
     "execution_count": 42
    }
   ],
   "metadata": {}
  },
  {
   "cell_type": "code",
   "execution_count": 43,
   "source": [
    "mannwhitneyu(df_smoker[[\"bmi\"]], df_n_smoker[[\"bmi\"]])"
   ],
   "outputs": [
    {
     "output_type": "execute_result",
     "data": {
      "text/plain": [
       "MannwhitneyuResult(statistic=array([146227.5]), pvalue=array([0.9358583]))"
      ]
     },
     "metadata": {},
     "execution_count": 43
    }
   ],
   "metadata": {}
  },
  {
   "cell_type": "markdown",
   "source": [
    "**There is no evidence to reject H0.**"
   ],
   "metadata": {}
  },
  {
   "cell_type": "markdown",
   "source": [
    "## whetherregions differ by charges"
   ],
   "metadata": {}
  },
  {
   "cell_type": "code",
   "execution_count": 44,
   "source": [
    "print(\"southwest\")\r\n",
    "print(pf[4])\r\n",
    "print()\r\n",
    "print(\"southeast\")\r\n",
    "print(pf[5])\r\n",
    "print()\r\n",
    "print(\"northwest\")\r\n",
    "print(pf[6])\r\n",
    "print()\r\n",
    "print(\"northeast\")\r\n",
    "print(pf[7])"
   ],
   "outputs": [
    {
     "output_type": "stream",
     "name": "stdout",
     "text": [
      "southwest\n",
      "            age       bmi       charges\n",
      "0  9.407403e-01  0.994927  7.842954e-01\n",
      "1  4.063502e-10  0.363001  2.023704e-20\n",
      "\n",
      "southeast\n",
      "            age       bmi       charges\n",
      "0  9.451167e-01  0.991089  8.242298e-01\n",
      "1  2.290088e-10  0.027041  1.232663e-19\n",
      "\n",
      "northwest\n",
      "            age       bmi       charges\n",
      "0  9.386048e-01  0.995464  8.128033e-01\n",
      "1  2.394839e-10  0.465452  4.268424e-19\n",
      "\n",
      "northeast\n",
      "            age       bmi       charges\n",
      "0  9.445760e-01  0.992033  8.353428e-01\n",
      "1  1.133527e-09  0.079642  6.552676e-18\n"
     ]
    }
   ],
   "metadata": {}
  },
  {
   "cell_type": "code",
   "execution_count": 46,
   "source": [
    "df.loc[:,[\"region\", \"charges\"]].groupby(\"region\").mean()"
   ],
   "outputs": [
    {
     "output_type": "execute_result",
     "data": {
      "text/html": [
       "<div>\n",
       "<style scoped>\n",
       "    .dataframe tbody tr th:only-of-type {\n",
       "        vertical-align: middle;\n",
       "    }\n",
       "\n",
       "    .dataframe tbody tr th {\n",
       "        vertical-align: top;\n",
       "    }\n",
       "\n",
       "    .dataframe thead th {\n",
       "        text-align: right;\n",
       "    }\n",
       "</style>\n",
       "<table border=\"1\" class=\"dataframe\">\n",
       "  <thead>\n",
       "    <tr style=\"text-align: right;\">\n",
       "      <th></th>\n",
       "      <th>charges</th>\n",
       "    </tr>\n",
       "    <tr>\n",
       "      <th>region</th>\n",
       "      <th></th>\n",
       "    </tr>\n",
       "  </thead>\n",
       "  <tbody>\n",
       "    <tr>\n",
       "      <th>northeast</th>\n",
       "      <td>13406.384516</td>\n",
       "    </tr>\n",
       "    <tr>\n",
       "      <th>northwest</th>\n",
       "      <td>12417.575374</td>\n",
       "    </tr>\n",
       "    <tr>\n",
       "      <th>southeast</th>\n",
       "      <td>14735.411438</td>\n",
       "    </tr>\n",
       "    <tr>\n",
       "      <th>southwest</th>\n",
       "      <td>12346.937377</td>\n",
       "    </tr>\n",
       "  </tbody>\n",
       "</table>\n",
       "</div>"
      ],
      "text/plain": [
       "                charges\n",
       "region                 \n",
       "northeast  13406.384516\n",
       "northwest  12417.575374\n",
       "southeast  14735.411438\n",
       "southwest  12346.937377"
      ]
     },
     "metadata": {},
     "execution_count": 46
    }
   ],
   "metadata": {}
  },
  {
   "cell_type": "markdown",
   "source": [
    "A **Kruskal-Wallis Test** is used to determine whether or not there is a statistically significant difference between the medians of three or more independent groups. It is considered to be the non-parametric equivalent of the One-Way ANOVA [(Source)](https://www.statology.org/kruskal-wallis-test-python/).\r\n",
    "\r\n",
    "> H0: the median is equal across all groups. <br />\r\n",
    "> H1: the median is not equal across all groups.\r\n",
    "\r\n",
    "$\\alpha = 0.05$"
   ],
   "metadata": {}
  },
  {
   "cell_type": "code",
   "execution_count": 47,
   "source": [
    "kruskal(df_southW.loc[:, \"charges\"], \r\n",
    "        df_southE.loc[:, \"charges\"], \r\n",
    "        df_northW.loc[:, \"charges\"], \r\n",
    "        df_northE.loc[:, \"charges\"])"
   ],
   "outputs": [
    {
     "output_type": "execute_result",
     "data": {
      "text/plain": [
       "KruskalResult(statistic=4.734181215658743, pvalue=0.19232908072121002)"
      ]
     },
     "metadata": {},
     "execution_count": 47
    }
   ],
   "metadata": {}
  },
  {
   "cell_type": "markdown",
   "source": [
    "**There is no evidence to reject H0.**"
   ],
   "metadata": {}
  },
  {
   "cell_type": "markdown",
   "source": [
    "## ## whether smoking differ by charges"
   ],
   "metadata": {}
  },
  {
   "cell_type": "code",
   "execution_count": 128,
   "source": [
    "df.loc[:,[\"smoker\",\"charges\"]].groupby(\"smoker\").mean()"
   ],
   "outputs": [
    {
     "output_type": "execute_result",
     "data": {
      "text/html": [
       "<div>\n",
       "<style scoped>\n",
       "    .dataframe tbody tr th:only-of-type {\n",
       "        vertical-align: middle;\n",
       "    }\n",
       "\n",
       "    .dataframe tbody tr th {\n",
       "        vertical-align: top;\n",
       "    }\n",
       "\n",
       "    .dataframe thead th {\n",
       "        text-align: right;\n",
       "    }\n",
       "</style>\n",
       "<table border=\"1\" class=\"dataframe\">\n",
       "  <thead>\n",
       "    <tr style=\"text-align: right;\">\n",
       "      <th></th>\n",
       "      <th>charges</th>\n",
       "    </tr>\n",
       "    <tr>\n",
       "      <th>smoker</th>\n",
       "      <th></th>\n",
       "    </tr>\n",
       "  </thead>\n",
       "  <tbody>\n",
       "    <tr>\n",
       "      <th>no</th>\n",
       "      <td>8434.268298</td>\n",
       "    </tr>\n",
       "    <tr>\n",
       "      <th>yes</th>\n",
       "      <td>32050.231832</td>\n",
       "    </tr>\n",
       "  </tbody>\n",
       "</table>\n",
       "</div>"
      ],
      "text/plain": [
       "             charges\n",
       "smoker              \n",
       "no       8434.268298\n",
       "yes     32050.231832"
      ]
     },
     "metadata": {},
     "execution_count": 128
    }
   ],
   "metadata": {}
  },
  {
   "cell_type": "code",
   "execution_count": 129,
   "source": [
    "mannwhitneyu(df_smoker[[\"charges\"]], df_n_smoker[[\"charges\"]])"
   ],
   "outputs": [
    {
     "output_type": "execute_result",
     "data": {
      "text/plain": [
       "MannwhitneyuResult(statistic=array([284133.]), pvalue=array([5.27023344e-130]))"
      ]
     },
     "metadata": {},
     "execution_count": 129
    }
   ],
   "metadata": {}
  },
  {
   "cell_type": "markdown",
   "source": [
    "**We reject H0 in favor of H1.**"
   ],
   "metadata": {}
  },
  {
   "cell_type": "code",
   "execution_count": 130,
   "source": [
    "# removal of two axes\r\n",
    "custom_params = {\"axes.spines.right\": False, \"axes.spines.top\": False} \r\n",
    "# set style for our plot\r\n",
    "sns.set_style(style=\"ticks\", rc=custom_params)\r\n",
    "# set plot size\r\n",
    "plt.pyplot.subplots(figsize=(14, 8))\r\n",
    "\r\n",
    "# main kde plot\r\n",
    "ax = sns.kdeplot(df.loc[:, \"charges\"], \r\n",
    "        hue=df.loc[:, \"smoker\"], \r\n",
    "        fill=True, \r\n",
    "        palette=\"crest\", \r\n",
    "        alpha=0.5)\r\n",
    "\r\n",
    "# set legend text and title with proper size\r\n",
    "plt.pyplot.setp(ax.get_legend().get_texts(), fontsize='16') \r\n",
    "plt.pyplot.setp(ax.get_legend().get_title(), fontsize='22') \r\n",
    "\r\n",
    "# set text size for y and x axes\r\n",
    "plt.pyplot.xlabel(\"Charges\",fontsize=14)\r\n",
    "plt.pyplot.ylabel(\"Density\",fontsize=14)\r\n",
    "\r\n",
    "# set title with double enter and add subplot\r\n",
    "ax.set_title(\"Distribution of charges by smoker \\n\\n\", size = 22, loc='left')\r\n",
    "plt.pyplot.suptitle(t=\"With mean presented\", ha='left', x=0.125, y = 0.96)\r\n",
    "\r\n",
    "# add line for overall mean ----\r\n",
    "\r\n",
    "# the current y-axis limits in data coordinates\r\n",
    "kdeline = ax.get_ylim() \r\n",
    "\r\n",
    "# add line\r\n",
    "ax.plot([df.loc[:, \"charges\"].mean(), df.loc[:, \"charges\"].mean()],\r\n",
    "    plt.pyplot.ylim(ymin=0, ymax=5.5*1e-5), color='k')\r\n",
    "\r\n",
    "# set y_lim according to the y_lim of the plot    \r\n",
    "ax.set_ylim(kdeline)\r\n",
    "\r\n",
    "# add caption for overall mean\r\n",
    "plt.pyplot.text(13800, 5*1e-5, \r\n",
    "    \"Overall: \"+str(np.round(df.loc[:, \"charges\"].mean(),2))+\"$\", \r\n",
    "    horizontalalignment='left', \r\n",
    "    size=14, \r\n",
    "    color='black')\r\n",
    "\r\n",
    "# add another line for Smoker\r\n",
    "ax.plot([df_smoker.loc[:, \"charges\"].mean(), df_smoker.loc[:, \"charges\"].mean()],\r\n",
    "    ax.get_ylim(), color='k', linestyle='dashed', linewidth=1)\r\n",
    "ax.set_ylim(kdeline)\r\n",
    "\r\n",
    "# add another line for Non Smoker\r\n",
    "ax.plot([df_n_smoker.loc[:, \"charges\"].mean(), df_n_smoker.loc[:, \"charges\"].mean()],\r\n",
    "    ax.get_ylim(), color='k', linestyle='dashed', linewidth=1)\r\n",
    "ax.set_ylim(kdeline)\r\n",
    "\r\n",
    "# add caption for Non smoker mean\r\n",
    "plt.pyplot.text(8634, 6*1e-5, \r\n",
    "    \"Non smoker: \"+str(np.round(df_n_smoker.loc[:, \"charges\"].mean(),2))+\"$\", \r\n",
    "    horizontalalignment='left', \r\n",
    "    size=14, \r\n",
    "    color='black')\r\n",
    "\r\n",
    "# add caption for Smoker mean\r\n",
    "plt.pyplot.text(32250, 6*1e-5, \r\n",
    "    \"Smoker: \"+str(np.round(df_smoker.loc[:, \"charges\"].mean(),2))+\"$\", \r\n",
    "    horizontalalignment='left', \r\n",
    "    size=14, \r\n",
    "    color='black')\r\n",
    "\r\n",
    "plt.pyplot.show()"
   ],
   "outputs": [
    {
     "output_type": "display_data",
     "data": {
      "image/png": "[encoded data removed]",
      "text/plain": [
       "<Figure size 1008x576 with 1 Axes>"
      ]
     },
     "metadata": {}
    }
   ],
   "metadata": {}
  }
 ],
 "metadata": {
  "orig_nbformat": 4,
  "language_info": {
   "name": "python",
   "version": "3.9.7",
   "mimetype": "text/x-python",
   "codemirror_mode": {
    "name": "ipython",
    "version": 3
   },
   "pygments_lexer": "ipython3",
   "nbconvert_exporter": "python",
   "file_extension": ".py"
  },
  "kernelspec": {
   "name": "python3",
   "display_name": "Python 3.9.7 64-bit ('base': conda)"
  },
  "interpreter": {
   "hash": "f1c1c68ca1531c10549a2b89994d18956862039366dbf297ef8d569c61ae48fb"
  }
 },
 "nbformat": 4,
 "nbformat_minor": 2
}