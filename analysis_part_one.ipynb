{
 "cells": [
  {
   "cell_type": "markdown",
   "source": [
    "# *Personal medical cost*\r\n",
    "\r\n",
    "Health problems and the high cost of medical services make it an extremely important part of our lives to have health insurance. Not only does it help to cover the cost of any treatment or surgery, but it also gives you the peace of mind that - in the case of an accident - you won't end up with a huge bill that you'll be paying for for the next decade. \r\n",
    "\r\n",
    "**Columns:**\r\n",
    "\r\n",
    "+ **age**: age of primary beneficiary,\r\n",
    "+ **sex**: insurance contractor gender, female, male,\r\n",
    "+ **bmi**: Body mass index, providing an understanding of body, weights that are relatively high or low relative to height, objective index of body weight (kg / m ^ 2) using the ratio of height to weight, ideally 18.5 to 24.9,\r\n",
    "+ **children**: number of children covered by health insurance / Number of dependents,\r\n",
    "+ **smoker**: smoking,\r\n",
    "+ **region**: the beneficiary's residential area in the US, northeast, southeast, southwest, northwest,\r\n",
    "+ **charges**: Individual medical costs billed by health insurance.\r\n",
    "\r\n",
    "The above set of variables will not only allow us to build a regression model that determines the value of the dependent variable: charges, but it can also be used to test some interesting statistical hypotheses.\r\n",
    "\r\n",
    "------\r\n",
    "\r\n",
    "## Main goal\r\n",
    "+ Build a regression model that determines individual medical costs billed by health insurance.\r\n",
    "\r\n",
    "\r\n",
    "## Side goal\r\n",
    "Using selected statistical tests, check whether: \r\n",
    "+ women and men differ by bmi, smoking or charges,\r\n",
    "+ smoking is associated with being overweight,\r\n",
    "+ regions differ by the amount of insurance paid.\r\n",
    "\r\n",
    "------\r\n",
    "\r\n",
    "## Table of contents🐱‍💻:\r\n",
    "\r\n",
    "1. Packages and loading data\r\n",
    "2. Data types and missing values\r\n",
    "3. Making a list of qualitative and quantitative variables\r\n",
    "4. Data overview\r\n",
    "    1. Qualitative variables\r\n",
    "    2. Quantitative variables\r\n",
    "5. Testing statistical hypotheses  \r\n",
    "\r\n",
    "------\r\n"
   ],
   "metadata": {}
  },
  {
   "cell_type": "markdown",
   "source": [
    "# Packages and loading data\r\n",
    "\r\n",
    "------"
   ],
   "metadata": {}
  },
  {
   "cell_type": "code",
   "execution_count": 1,
   "source": [
    "# Packages\r\n",
    "\r\n",
    "import pandas as pd\r\n",
    "import numpy as np\r\n",
    "import matplotlib as plt\r\n",
    "import seaborn as sns\r\n",
    "from scipy.stats import kurtosis, skew, shapiro, mannwhitneyu, chi2_contingency, kruskal\r\n",
    "from sklearn.model_selection import train_test_split\r\n",
    "from sklearn.preprocessing import StandardScaler"
   ],
   "outputs": [],
   "metadata": {}
  },
  {
   "cell_type": "code",
   "execution_count": 2,
   "source": [
    "import warnings\r\n",
    "warnings.simplefilter(action=\"ignore\", category=FutureWarning)"
   ],
   "outputs": [],
   "metadata": {}
  },
  {
   "cell_type": "code",
   "execution_count": 3,
   "source": [
    "# Loading data\r\n",
    "\r\n",
    "df = pd.read_csv(\"C:/Users/chole/Desktop/Personal_medical_cost/insurance.csv\")\r\n",
    "df.head()"
   ],
   "outputs": [
    {
     "output_type": "execute_result",
     "data": {
      "text/html": [
       "<div>\n",
       "<style scoped>\n",
       "    .dataframe tbody tr th:only-of-type {\n",
       "        vertical-align: middle;\n",
       "    }\n",
       "\n",
       "    .dataframe tbody tr th {\n",
       "        vertical-align: top;\n",
       "    }\n",
       "\n",
       "    .dataframe thead th {\n",
       "        text-align: right;\n",
       "    }\n",
       "</style>\n",
       "<table border=\"1\" class=\"dataframe\">\n",
       "  <thead>\n",
       "    <tr style=\"text-align: right;\">\n",
       "      <th></th>\n",
       "      <th>age</th>\n",
       "      <th>sex</th>\n",
       "      <th>bmi</th>\n",
       "      <th>children</th>\n",
       "      <th>smoker</th>\n",
       "      <th>region</th>\n",
       "      <th>charges</th>\n",
       "    </tr>\n",
       "  </thead>\n",
       "  <tbody>\n",
       "    <tr>\n",
       "      <th>0</th>\n",
       "      <td>19</td>\n",
       "      <td>female</td>\n",
       "      <td>27.900</td>\n",
       "      <td>0</td>\n",
       "      <td>yes</td>\n",
       "      <td>southwest</td>\n",
       "      <td>16884.92400</td>\n",
       "    </tr>\n",
       "    <tr>\n",
       "      <th>1</th>\n",
       "      <td>18</td>\n",
       "      <td>male</td>\n",
       "      <td>33.770</td>\n",
       "      <td>1</td>\n",
       "      <td>no</td>\n",
       "      <td>southeast</td>\n",
       "      <td>1725.55230</td>\n",
       "    </tr>\n",
       "    <tr>\n",
       "      <th>2</th>\n",
       "      <td>28</td>\n",
       "      <td>male</td>\n",
       "      <td>33.000</td>\n",
       "      <td>3</td>\n",
       "      <td>no</td>\n",
       "      <td>southeast</td>\n",
       "      <td>4449.46200</td>\n",
       "    </tr>\n",
       "    <tr>\n",
       "      <th>3</th>\n",
       "      <td>33</td>\n",
       "      <td>male</td>\n",
       "      <td>22.705</td>\n",
       "      <td>0</td>\n",
       "      <td>no</td>\n",
       "      <td>northwest</td>\n",
       "      <td>21984.47061</td>\n",
       "    </tr>\n",
       "    <tr>\n",
       "      <th>4</th>\n",
       "      <td>32</td>\n",
       "      <td>male</td>\n",
       "      <td>28.880</td>\n",
       "      <td>0</td>\n",
       "      <td>no</td>\n",
       "      <td>northwest</td>\n",
       "      <td>3866.85520</td>\n",
       "    </tr>\n",
       "  </tbody>\n",
       "</table>\n",
       "</div>"
      ],
      "text/plain": [
       "   age     sex     bmi  children smoker     region      charges\n",
       "0   19  female  27.900         0    yes  southwest  16884.92400\n",
       "1   18    male  33.770         1     no  southeast   1725.55230\n",
       "2   28    male  33.000         3     no  southeast   4449.46200\n",
       "3   33    male  22.705         0     no  northwest  21984.47061\n",
       "4   32    male  28.880         0     no  northwest   3866.85520"
      ]
     },
     "metadata": {},
     "execution_count": 3
    }
   ],
   "metadata": {}
  },
  {
   "cell_type": "markdown",
   "source": [
    "# Data types and missing values\r\n",
    "\r\n",
    "------"
   ],
   "metadata": {}
  },
  {
   "cell_type": "code",
   "execution_count": 4,
   "source": [
    "# Checking the data types\r\n",
    "\r\n",
    "df.dtypes"
   ],
   "outputs": [
    {
     "output_type": "execute_result",
     "data": {
      "text/plain": [
       "age           int64\n",
       "sex          object\n",
       "bmi         float64\n",
       "children      int64\n",
       "smoker       object\n",
       "region       object\n",
       "charges     float64\n",
       "dtype: object"
      ]
     },
     "metadata": {},
     "execution_count": 4
    }
   ],
   "metadata": {}
  },
  {
   "cell_type": "code",
   "execution_count": 5,
   "source": [
    "# Checking the percentage of missing values\r\n",
    "\r\n",
    "df.isnull().sum()/len(df)*100"
   ],
   "outputs": [
    {
     "output_type": "execute_result",
     "data": {
      "text/plain": [
       "age         0.0\n",
       "sex         0.0\n",
       "bmi         0.0\n",
       "children    0.0\n",
       "smoker      0.0\n",
       "region      0.0\n",
       "charges     0.0\n",
       "dtype: float64"
      ]
     },
     "metadata": {},
     "execution_count": 5
    }
   ],
   "metadata": {}
  },
  {
   "cell_type": "markdown",
   "source": [
    "# Making a list of qualitative and quantitative variables\r\n",
    "\r\n",
    "------"
   ],
   "metadata": {}
  },
  {
   "cell_type": "code",
   "execution_count": 6,
   "source": [
    "# List of quantitative variables\r\n",
    "categ = ['sex', 'smoker', 'region']\r\n",
    "# List of qualitative variables\r\n",
    "numer = ['age', 'bmi', 'children', 'charges']"
   ],
   "outputs": [],
   "metadata": {}
  },
  {
   "cell_type": "markdown",
   "source": [
    "# Data overview\r\n",
    "\r\n",
    "------"
   ],
   "metadata": {}
  },
  {
   "cell_type": "markdown",
   "source": [
    "## Qualitative variables\r\n",
    "\r\n",
    "+ counts \r\n",
    "+ fraction"
   ],
   "metadata": {}
  },
  {
   "cell_type": "code",
   "execution_count": 9,
   "source": [
    "# Unique values\r\n",
    "\r\n",
    "df.drop(columns=numer).nunique()"
   ],
   "outputs": [
    {
     "output_type": "execute_result",
     "data": {
      "text/plain": [
       "sex       2\n",
       "smoker    2\n",
       "region    4\n",
       "dtype: int64"
      ]
     },
     "metadata": {},
     "execution_count": 9
    }
   ],
   "metadata": {}
  },
  {
   "cell_type": "code",
   "execution_count": 13,
   "source": [
    "# Levels of unique values\r\n",
    "\r\n",
    "print(\"Gender:\")\r\n",
    "print(list(df.sex.unique()))\r\n",
    "print()\r\n",
    "print(\"Smoking:\")\r\n",
    "print(list(df.smoker.unique()))\r\n",
    "print()\r\n",
    "print(\"Region:\")\r\n",
    "print(list(df.region.unique()))"
   ],
   "outputs": [
    {
     "output_type": "stream",
     "name": "stdout",
     "text": [
      "Gender:\n",
      "['female', 'male']\n",
      "\n",
      "Smoking:\n",
      "['yes', 'no']\n",
      "\n",
      "Region:\n",
      "['southwest', 'southeast', 'northwest', 'northeast']\n"
     ]
    }
   ],
   "metadata": {}
  },
  {
   "cell_type": "code",
   "execution_count": 14,
   "source": [
    "count = 1\r\n",
    "# Removal of top and right side of axis\r\n",
    "custom_params = {\"axes.spines.right\": False, \"axes.spines.top\": False}\r\n",
    "# Setting the chart display style\r\n",
    "sns.set_style(style=\"ticks\", rc=custom_params)\r\n",
    "# Setting the chart size\r\n",
    "plt.pyplot.subplots(figsize=(14, 4))\r\n",
    "\r\n",
    "# Loop to make graphs\r\n",
    "for col in df[[\"sex\", \"smoker\", \"region\"]]:\r\n",
    "    plt.pyplot.subplot(1,3, count)\r\n",
    "    sns.countplot(df[col])\r\n",
    "    count+=1"
   ],
   "outputs": [
    {
     "output_type": "display_data",
     "data": {
      "image/png": "[encoded data removed]",
      "text/plain": [
       "<Figure size 1008x288 with 3 Axes>"
      ]
     },
     "metadata": {}
    }
   ],
   "metadata": {}
  },
  {
   "cell_type": "markdown",
   "source": [
    "## Quantitative variables"
   ],
   "metadata": {}
  },
  {
   "cell_type": "code",
   "execution_count": 15,
   "source": [
    "# Descriptive statistics\r\n",
    "\r\n",
    "df.loc[:,numer].describe()"
   ],
   "outputs": [
    {
     "output_type": "execute_result",
     "data": {
      "text/html": [
       "<div>\n",
       "<style scoped>\n",
       "    .dataframe tbody tr th:only-of-type {\n",
       "        vertical-align: middle;\n",
       "    }\n",
       "\n",
       "    .dataframe tbody tr th {\n",
       "        vertical-align: top;\n",
       "    }\n",
       "\n",
       "    .dataframe thead th {\n",
       "        text-align: right;\n",
       "    }\n",
       "</style>\n",
       "<table border=\"1\" class=\"dataframe\">\n",
       "  <thead>\n",
       "    <tr style=\"text-align: right;\">\n",
       "      <th></th>\n",
       "      <th>age</th>\n",
       "      <th>bmi</th>\n",
       "      <th>children</th>\n",
       "      <th>charges</th>\n",
       "    </tr>\n",
       "  </thead>\n",
       "  <tbody>\n",
       "    <tr>\n",
       "      <th>count</th>\n",
       "      <td>1338.000000</td>\n",
       "      <td>1338.000000</td>\n",
       "      <td>1338.000000</td>\n",
       "      <td>1338.000000</td>\n",
       "    </tr>\n",
       "    <tr>\n",
       "      <th>mean</th>\n",
       "      <td>39.207025</td>\n",
       "      <td>30.663397</td>\n",
       "      <td>1.094918</td>\n",
       "      <td>13270.422265</td>\n",
       "    </tr>\n",
       "    <tr>\n",
       "      <th>std</th>\n",
       "      <td>14.049960</td>\n",
       "      <td>6.098187</td>\n",
       "      <td>1.205493</td>\n",
       "      <td>12110.011237</td>\n",
       "    </tr>\n",
       "    <tr>\n",
       "      <th>min</th>\n",
       "      <td>18.000000</td>\n",
       "      <td>15.960000</td>\n",
       "      <td>0.000000</td>\n",
       "      <td>1121.873900</td>\n",
       "    </tr>\n",
       "    <tr>\n",
       "      <th>25%</th>\n",
       "      <td>27.000000</td>\n",
       "      <td>26.296250</td>\n",
       "      <td>0.000000</td>\n",
       "      <td>4740.287150</td>\n",
       "    </tr>\n",
       "    <tr>\n",
       "      <th>50%</th>\n",
       "      <td>39.000000</td>\n",
       "      <td>30.400000</td>\n",
       "      <td>1.000000</td>\n",
       "      <td>9382.033000</td>\n",
       "    </tr>\n",
       "    <tr>\n",
       "      <th>75%</th>\n",
       "      <td>51.000000</td>\n",
       "      <td>34.693750</td>\n",
       "      <td>2.000000</td>\n",
       "      <td>16639.912515</td>\n",
       "    </tr>\n",
       "    <tr>\n",
       "      <th>max</th>\n",
       "      <td>64.000000</td>\n",
       "      <td>53.130000</td>\n",
       "      <td>5.000000</td>\n",
       "      <td>63770.428010</td>\n",
       "    </tr>\n",
       "  </tbody>\n",
       "</table>\n",
       "</div>"
      ],
      "text/plain": [
       "               age          bmi     children       charges\n",
       "count  1338.000000  1338.000000  1338.000000   1338.000000\n",
       "mean     39.207025    30.663397     1.094918  13270.422265\n",
       "std      14.049960     6.098187     1.205493  12110.011237\n",
       "min      18.000000    15.960000     0.000000   1121.873900\n",
       "25%      27.000000    26.296250     0.000000   4740.287150\n",
       "50%      39.000000    30.400000     1.000000   9382.033000\n",
       "75%      51.000000    34.693750     2.000000  16639.912515\n",
       "max      64.000000    53.130000     5.000000  63770.428010"
      ]
     },
     "metadata": {},
     "execution_count": 15
    }
   ],
   "metadata": {}
  },
  {
   "cell_type": "code",
   "execution_count": 16,
   "source": [
    "# Coefficient of variation\r\n",
    "\r\n",
    "\"\"\"\r\n",
    "The coefficient of variation provides a relative measure of variation \r\n",
    "thus allowing comparison of variables with different units of measurement.\r\n",
    "\r\n",
    "It characterizes the ratio of the intensity of the secondary causes to the primary causes.\r\n",
    "\r\n",
    "Source: Biostatystyka, red. A.Stanisz (book)\r\n",
    "\"\"\"\r\n",
    "def cv(x): return np.std(x) / np.mean(x) * 100\r\n",
    "df.loc[:, numer].apply(cv)"
   ],
   "outputs": [
    {
     "output_type": "execute_result",
     "data": {
      "text/plain": [
       "age          35.821919\n",
       "bmi          19.880079\n",
       "children    110.057777\n",
       "charges      91.221551\n",
       "dtype: float64"
      ]
     },
     "metadata": {},
     "execution_count": 16
    }
   ],
   "metadata": {}
  },
  {
   "cell_type": "code",
   "execution_count": 17,
   "source": [
    "# Kurtosis\r\n",
    "\r\n",
    "\"\"\"\r\n",
    "Kurtosis is a measure of outliers. \r\n",
    "The higher its value, the more likely there are outliers in the database. \r\n",
    "The lower the value, the more the results are clustered around the mean.\r\n",
    "Safe threshold: K=|3|. \r\n",
    "\r\n",
    "Source: Biostatystyka, red. A.Stanisz (book)\r\n",
    "\"\"\"\r\n",
    "df.loc[:, numer].apply(kurtosis, bias=False)"
   ],
   "outputs": [
    {
     "output_type": "execute_result",
     "data": {
      "text/plain": [
       "age        -1.245088\n",
       "bmi        -0.050732\n",
       "children    0.202454\n",
       "charges     1.606299\n",
       "dtype: float64"
      ]
     },
     "metadata": {},
     "execution_count": 17
    }
   ],
   "metadata": {}
  },
  {
   "cell_type": "code",
   "execution_count": 18,
   "source": [
    "# Skewness\r\n",
    "\r\n",
    "\"\"\"\r\n",
    "Skewness, in statistics, is the degree of asymmetry observed in a probability distribution.\r\n",
    "Distributions can exhibit right (positive) skewness or left (negative) skewness to varying degrees. \r\n",
    "A normal distribution (bell curve) exhibits zero skewness.\r\n",
    "\r\n",
    "The mean of positively skewed data will be greater than the median. \r\n",
    "The mean of negatively skewed data will be less than the median.\r\n",
    "\r\n",
    "Source: https://www.investopedia.com/terms/s/skewness.asp\r\n",
    "\"\"\"\r\n",
    "df.loc[:, numer].apply(skew, bias=False)"
   ],
   "outputs": [
    {
     "output_type": "execute_result",
     "data": {
      "text/plain": [
       "age         0.055673\n",
       "bmi         0.284047\n",
       "children    0.938380\n",
       "charges     1.515880\n",
       "dtype: float64"
      ]
     },
     "metadata": {},
     "execution_count": 18
    }
   ],
   "metadata": {}
  },
  {
   "cell_type": "code",
   "execution_count": 19,
   "source": [
    "# Density/distribution graphs\r\n",
    "\r\n",
    "count = 1\r\n",
    "# Removal of top and right side of axis\r\n",
    "custom_params = {\"axes.spines.right\": False, \"axes.spines.top\": False}\r\n",
    "# Setting the chart display style\r\n",
    "sns.set_style(style=\"ticks\", rc=custom_params)\r\n",
    "# Setting the chart size\r\n",
    "plt.pyplot.subplots(figsize=(8, 10))\r\n",
    "\r\n",
    "# Loop to make graphs\r\n",
    "for col in df[[\"age\", \"bmi\", \"charges\"]]:\r\n",
    "    plt.pyplot.subplot(3,1, count)\r\n",
    "    sns.kdeplot(df[col],\r\n",
    "                shade=True,\r\n",
    "                color='k')\r\n",
    "    count+=1"
   ],
   "outputs": [
    {
     "output_type": "display_data",
     "data": {
      "image/png": "[encoded data removed]",
      "text/plain": [
       "<Figure size 576x720 with 3 Axes>"
      ]
     },
     "metadata": {}
    }
   ],
   "metadata": {}
  },
  {
   "cell_type": "code",
   "execution_count": 20,
   "source": [
    "# Test of normality\r\n",
    "\r\n",
    "\"\"\"\r\n",
    "The Shapiro-Wilk test is a test of normality. \r\n",
    "It is used to determine whether or not a sample comes from a normal distribution.\r\n",
    "\r\n",
    "H0: the distribution of the data --are not-- significantly different from normal distribution.\r\n",
    "H1: the distribution of the data --are------ significantly different from normal distribution.\r\n",
    "\r\n",
    "Source: https://www.statology.org/shapiro-wilk-test-python/\r\n",
    "\"\"\"\r\n",
    "# Divide the dataset by category to meet hypothesis testing assumptions.\r\n",
    "df_female = df.loc[df.loc[:,\"sex\"]==\"female\"]\r\n",
    "df_male = df.loc[df.loc[:,\"sex\"]==\"male\"]\r\n",
    "\r\n",
    "df_smoker = df.loc[df.loc[:,\"smoker\"]==\"yes\"]\r\n",
    "df_n_smoker = df.loc[df.loc[:,\"smoker\"]==\"no\"]\r\n",
    "\r\n",
    "df_southW = df.loc[df.loc[:,\"region\"]==\"southwest\"]\r\n",
    "df_southE = df.loc[df.loc[:,\"region\"]==\"southeast\"]\r\n",
    "df_northW = df.loc[df.loc[:,\"region\"]==\"northwest\"]\r\n",
    "df_northE = df.loc[df.loc[:,\"region\"]==\"northeast\"]\r\n",
    "\r\n",
    "# Database list\r\n",
    "data_sets = [df_male, df_female, df_smoker, df_n_smoker, df_southW, df_southE, df_northW, df_northE]\r\n",
    "\r\n",
    "# Empty list for results\r\n",
    "pf = []\r\n",
    "\r\n",
    "# Loop for test of normality\r\n",
    "for i in data_sets:\r\n",
    "    i = i.loc[:,['age', 'bmi', 'charges']].apply(shapiro)\r\n",
    "    pf.append(i)"
   ],
   "outputs": [],
   "metadata": {}
  },
  {
   "cell_type": "code",
   "execution_count": 31,
   "source": [
    "# Outliers\r\n",
    "\r\n",
    "\"\"\"\r\n",
    "An outlier is an observation that lies an abnormal distance from other values in a random sample from a population. \r\n",
    "In a sense, this definition leaves it up to the analyst to decide what will be considered abnormal. \r\n",
    "Before abnormal observations can be singled out, it is necessary to characterize normal observations.\r\n",
    "\r\n",
    "Source: https://www.itl.nist.gov/div898/handbook/prc/section1/prc16.htm\r\n",
    "\"\"\"\r\n",
    "count = 1\r\n",
    "# Removal of top and right side of axis\r\n",
    "custom_params = {\"axes.spines.right\": False, \"axes.spines.top\": False}\r\n",
    "# Setting the chart display style\r\n",
    "sns.set_style(style=\"ticks\", rc=custom_params)\r\n",
    "# Setting the chart size\r\n",
    "plt.pyplot.subplots(figsize=(8, 10))\r\n",
    "\r\n",
    "# Loop to make graphs\r\n",
    "for col in df[[\"age\", \"bmi\", \"charges\"]]:\r\n",
    "    plt.pyplot.subplot(3,1, count)\r\n",
    "    sns.boxplot(df[col],\r\n",
    "                orient=\"h\",\r\n",
    "                color='y')\r\n",
    "    count+=1"
   ],
   "outputs": [
    {
     "output_type": "display_data",
     "data": {
      "image/png": "[encoded data removed]",
      "text/plain": [
       "<Figure size 576x720 with 3 Axes>"
      ]
     },
     "metadata": {}
    }
   ],
   "metadata": {}
  },
  {
   "cell_type": "code",
   "execution_count": 32,
   "source": [
    "# Pearson’s correlation\r\n",
    "\r\n",
    "\"\"\"\r\n",
    "Correlation between sets of data is a measure of how well they are related. \r\n",
    "The most common measure of correlation in stats is the Pearson Correlation. \r\n",
    "It shows the linear relationship between two sets of data. \r\n",
    "It is not able to tell the difference between dependent variables and independent variables.\r\n",
    "\r\n",
    "Source: https://www.statisticshowto.com/probability-and-statistics/correlation-coefficient-formula/\r\n",
    "\"\"\"\r\n",
    "plt.rcParams['figure.figsize'] = [10, 8]  # for size\r\n",
    "\r\n",
    "sns.heatmap(df.loc[:,numer].corr(), \r\n",
    "            annot=True, \r\n",
    "            cmap='coolwarm', \r\n",
    "            vmax=1, vmin=-1, # cause corr can be in range from 1 to -1\r\n",
    "            mask=np.triu(df.loc[:,numer].corr())).set_title(\"Correlogram\")"
   ],
   "outputs": [
    {
     "output_type": "execute_result",
     "data": {
      "text/plain": [
       "Text(0.5, 1.0, 'Correlogram')"
      ]
     },
     "metadata": {},
     "execution_count": 32
    },
    {
     "output_type": "display_data",
     "data": {
      "image/png": "[encoded data removed]",
      "text/plain": [
       "<Figure size 720x576 with 2 Axes>"
      ]
     },
     "metadata": {}
    }
   ],
   "metadata": {}
  },
  {
   "cell_type": "markdown",
   "source": [
    "# Testing statistical hypotheses\r\n",
    "\r\n",
    "------"
   ],
   "metadata": {}
  },
  {
   "cell_type": "markdown",
   "source": [
    "## case 1"
   ],
   "metadata": {}
  },
  {
   "cell_type": "code",
   "execution_count": null,
   "source": [],
   "outputs": [],
   "metadata": {}
  },
  {
   "cell_type": "markdown",
   "source": [
    "## case 2"
   ],
   "metadata": {}
  },
  {
   "cell_type": "code",
   "execution_count": null,
   "source": [],
   "outputs": [],
   "metadata": {}
  }
 ],
 "metadata": {
  "orig_nbformat": 4,
  "language_info": {
   "name": "python",
   "version": "3.9.7",
   "mimetype": "text/x-python",
   "codemirror_mode": {
    "name": "ipython",
    "version": 3
   },
   "pygments_lexer": "ipython3",
   "nbconvert_exporter": "python",
   "file_extension": ".py"
  },
  "kernelspec": {
   "name": "python3",
   "display_name": "Python 3.9.7 64-bit ('base': conda)"
  },
  "interpreter": {
   "hash": "f1c1c68ca1531c10549a2b89994d18956862039366dbf297ef8d569c61ae48fb"
  }
 },
 "nbformat": 4,
 "nbformat_minor": 2
}