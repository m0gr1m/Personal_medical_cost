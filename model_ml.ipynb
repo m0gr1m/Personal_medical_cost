{
 "cells": [
  {
   "cell_type": "code",
   "execution_count": 22,
   "source": [
    "import pandas as pd\r\n",
    "import numpy as np\r\n",
    "import matplotlib.pyplot as plt\r\n",
    "import seaborn as sns\r\n",
    "from sklearn.model_selection import train_test_split, cross_val_score, GridSearchCV\r\n",
    "from sklearn.preprocessing import StandardScaler, OneHotEncoder\r\n",
    "from sklearn.compose import make_column_transformer\r\n",
    "from sklearn.pipeline import Pipeline\r\n",
    "from sklearn.linear_model import LinearRegression, Lasso, BayesianRidge\r\n",
    "from sklearn.neighbors import KNeighborsRegressor"
   ],
   "outputs": [],
   "metadata": {}
  },
  {
   "cell_type": "code",
   "execution_count": null,
   "source": [
    "plt.rcParams['figure.figsize'] = [10, 8]"
   ],
   "outputs": [],
   "metadata": {}
  },
  {
   "cell_type": "code",
   "execution_count": 4,
   "source": [
    "df = pd.read_csv(\"C:/Users/chole/Desktop/Personal_medical_cost/insurance.csv\")\r\n",
    "df.head()"
   ],
   "outputs": [
    {
     "output_type": "execute_result",
     "data": {
      "text/html": [
       "<div>\n",
       "<style scoped>\n",
       "    .dataframe tbody tr th:only-of-type {\n",
       "        vertical-align: middle;\n",
       "    }\n",
       "\n",
       "    .dataframe tbody tr th {\n",
       "        vertical-align: top;\n",
       "    }\n",
       "\n",
       "    .dataframe thead th {\n",
       "        text-align: right;\n",
       "    }\n",
       "</style>\n",
       "<table border=\"1\" class=\"dataframe\">\n",
       "  <thead>\n",
       "    <tr style=\"text-align: right;\">\n",
       "      <th></th>\n",
       "      <th>age</th>\n",
       "      <th>sex</th>\n",
       "      <th>bmi</th>\n",
       "      <th>children</th>\n",
       "      <th>smoker</th>\n",
       "      <th>region</th>\n",
       "      <th>charges</th>\n",
       "    </tr>\n",
       "  </thead>\n",
       "  <tbody>\n",
       "    <tr>\n",
       "      <th>0</th>\n",
       "      <td>19</td>\n",
       "      <td>female</td>\n",
       "      <td>27.900</td>\n",
       "      <td>0</td>\n",
       "      <td>yes</td>\n",
       "      <td>southwest</td>\n",
       "      <td>16884.92400</td>\n",
       "    </tr>\n",
       "    <tr>\n",
       "      <th>1</th>\n",
       "      <td>18</td>\n",
       "      <td>male</td>\n",
       "      <td>33.770</td>\n",
       "      <td>1</td>\n",
       "      <td>no</td>\n",
       "      <td>southeast</td>\n",
       "      <td>1725.55230</td>\n",
       "    </tr>\n",
       "    <tr>\n",
       "      <th>2</th>\n",
       "      <td>28</td>\n",
       "      <td>male</td>\n",
       "      <td>33.000</td>\n",
       "      <td>3</td>\n",
       "      <td>no</td>\n",
       "      <td>southeast</td>\n",
       "      <td>4449.46200</td>\n",
       "    </tr>\n",
       "    <tr>\n",
       "      <th>3</th>\n",
       "      <td>33</td>\n",
       "      <td>male</td>\n",
       "      <td>22.705</td>\n",
       "      <td>0</td>\n",
       "      <td>no</td>\n",
       "      <td>northwest</td>\n",
       "      <td>21984.47061</td>\n",
       "    </tr>\n",
       "    <tr>\n",
       "      <th>4</th>\n",
       "      <td>32</td>\n",
       "      <td>male</td>\n",
       "      <td>28.880</td>\n",
       "      <td>0</td>\n",
       "      <td>no</td>\n",
       "      <td>northwest</td>\n",
       "      <td>3866.85520</td>\n",
       "    </tr>\n",
       "  </tbody>\n",
       "</table>\n",
       "</div>"
      ],
      "text/plain": [
       "   age     sex     bmi  children smoker     region      charges\n",
       "0   19  female  27.900         0    yes  southwest  16884.92400\n",
       "1   18    male  33.770         1     no  southeast   1725.55230\n",
       "2   28    male  33.000         3     no  southeast   4449.46200\n",
       "3   33    male  22.705         0     no  northwest  21984.47061\n",
       "4   32    male  28.880         0     no  northwest   3866.85520"
      ]
     },
     "metadata": {},
     "execution_count": 4
    }
   ],
   "metadata": {}
  },
  {
   "cell_type": "code",
   "execution_count": 5,
   "source": [
    "X = df.drop(columns=[\"charges\"])\r\n",
    "y = df.charges"
   ],
   "outputs": [],
   "metadata": {}
  },
  {
   "cell_type": "code",
   "execution_count": 6,
   "source": [
    "X_train, X_test, y_train, y_test = train_test_split(X, y, \r\n",
    "                                                    test_size=0.2, \r\n",
    "                                                    random_state=42,\r\n",
    "                                                    stratify=X[[\"smoker\"]])"
   ],
   "outputs": [],
   "metadata": {}
  },
  {
   "cell_type": "code",
   "execution_count": 17,
   "source": [
    "f\"Shapes of X_train={X_train.shape}, X_test={X_test.shape}, y_tain={y_train.shape}, y_test={y_test.shape}\""
   ],
   "outputs": [
    {
     "output_type": "execute_result",
     "data": {
      "text/plain": [
       "'Shapes of X_train=(1070, 6), X_test=(268, 6), y_tain=(1070,), y_test=(268,)'"
      ]
     },
     "metadata": {},
     "execution_count": 17
    }
   ],
   "metadata": {}
  },
  {
   "cell_type": "code",
   "execution_count": 8,
   "source": [
    "column_t = make_column_transformer(\r\n",
    "    # add OHE only for 3 columns, drop lvl only for binary variable (sex, smoker)\r\n",
    "    (OneHotEncoder(drop=\"if_binary\"), [\"sex\", \"region\", \"smoker\"]), \r\n",
    "    # add Standard Scaler only on quantitative variables\r\n",
    "    (StandardScaler(), [\"age\", \"bmi\", \"children\"]),\r\n",
    "    remainder=\"passthrough\"\r\n",
    ")"
   ],
   "outputs": [],
   "metadata": {}
  },
  {
   "cell_type": "code",
   "execution_count": 34,
   "source": [
    "names=[]\r\n",
    "results =[] # for all results\r\n",
    "score_fp = [] # for mean of r2\r\n",
    "\r\n",
    "models={'LR': LinearRegression(),\r\n",
    "       'Lasso': Lasso(),\r\n",
    "       'KNN': KNeighborsRegressor(),\r\n",
    "       'Bayesian': BayesianRidge()\r\n",
    "\r\n",
    "}\r\n",
    "\r\n",
    "for name, model in models.items(): # need .items() cause dictionary above\r\n",
    "\r\n",
    "    pipe = Pipeline([\r\n",
    "        (\"preProc\", column_t),\r\n",
    "        (\"model\", model)\r\n",
    "    ]) # pipeline with preprocessing of the data and model\r\n",
    "\r\n",
    "    cv_res = cross_val_score(pipe, X_train, y_train, cv=10, scoring='r2') # cross-validation    \r\n",
    "\r\n",
    "    results.append(cv_res) # add results to the list\r\n",
    "    names.append(name) # add name of algorithm to the list\r\n",
    "    score_fp.append(cv_res.mean()) # add mean of r2 to the list\r\n",
    "    msg = \"%s: %f (%f)\" % (name, cv_res.mean(), cv_res.std()) # print nice list with mean and std\r\n",
    "    print(msg)\r\n",
    "\r\n",
    "# boxplot algorithm comparison \r\n",
    "# Source: https://machinelearningmastery.com/compare-machine-learning-algorithms-python-scikit-learn/\r\n",
    "fig = plt.figure()\r\n",
    "fig.suptitle('Algorithm Comparison')\r\n",
    "ax = fig.add_subplot(111) # all on the same box\r\n",
    "plt.boxplot(results)\r\n",
    "ax.set_xticklabels(names)\r\n",
    "plt.show()"
   ],
   "outputs": [
    {
     "output_type": "stream",
     "name": "stdout",
     "text": [
      "LR: 0.725405 (0.061729)\n",
      "Lasso: 0.725407 (0.061713)\n",
      "KNN: 0.629534 (0.075079)\n",
      "Bayesian: 0.725428 (0.061522)\n"
     ]
    },
    {
     "output_type": "display_data",
     "data": {
      "image/png": "[encoded data removed]",
      "text/plain": [
       "<Figure size 720x576 with 1 Axes>"
      ]
     },
     "metadata": {
      "needs_background": "light"
     }
    }
   ],
   "metadata": {}
  },
  {
   "cell_type": "code",
   "execution_count": 10,
   "source": [
    "dane = {\r\n",
    "    \"Names\": names,\r\n",
    "    \"Score R^2\": score_fp\r\n",
    "}\r\n",
    "\r\n",
    "res = pd.DataFrame(dane)  \r\n",
    "res"
   ],
   "outputs": [
    {
     "output_type": "execute_result",
     "data": {
      "text/html": [
       "<div>\n",
       "<style scoped>\n",
       "    .dataframe tbody tr th:only-of-type {\n",
       "        vertical-align: middle;\n",
       "    }\n",
       "\n",
       "    .dataframe tbody tr th {\n",
       "        vertical-align: top;\n",
       "    }\n",
       "\n",
       "    .dataframe thead th {\n",
       "        text-align: right;\n",
       "    }\n",
       "</style>\n",
       "<table border=\"1\" class=\"dataframe\">\n",
       "  <thead>\n",
       "    <tr style=\"text-align: right;\">\n",
       "      <th></th>\n",
       "      <th>Names</th>\n",
       "      <th>Score R^2</th>\n",
       "    </tr>\n",
       "  </thead>\n",
       "  <tbody>\n",
       "    <tr>\n",
       "      <th>0</th>\n",
       "      <td>LR</td>\n",
       "      <td>0.725405</td>\n",
       "    </tr>\n",
       "    <tr>\n",
       "      <th>1</th>\n",
       "      <td>Lasso</td>\n",
       "      <td>0.725407</td>\n",
       "    </tr>\n",
       "    <tr>\n",
       "      <th>2</th>\n",
       "      <td>KNN</td>\n",
       "      <td>0.629534</td>\n",
       "    </tr>\n",
       "    <tr>\n",
       "      <th>3</th>\n",
       "      <td>Bayesian</td>\n",
       "      <td>0.725428</td>\n",
       "    </tr>\n",
       "  </tbody>\n",
       "</table>\n",
       "</div>"
      ],
      "text/plain": [
       "      Names  Score R^2\n",
       "0        LR   0.725405\n",
       "1     Lasso   0.725407\n",
       "2       KNN   0.629534\n",
       "3  Bayesian   0.725428"
      ]
     },
     "metadata": {},
     "execution_count": 10
    }
   ],
   "metadata": {}
  },
  {
   "cell_type": "code",
   "execution_count": 11,
   "source": [
    "res.max()"
   ],
   "outputs": [
    {
     "output_type": "execute_result",
     "data": {
      "text/plain": [
       "Names           Lasso\n",
       "Score R^2    0.725428\n",
       "dtype: object"
      ]
     },
     "metadata": {},
     "execution_count": 11
    }
   ],
   "metadata": {}
  },
  {
   "cell_type": "code",
   "execution_count": 33,
   "source": [
    "pipe = Pipeline([\r\n",
    "        (\"preProc\", column_t),\r\n",
    "        (\"model\", Lasso())\r\n",
    "    ])\r\n",
    "\r\n",
    "model_final = pipe.fit(X_train, y_train)\r\n",
    "pred = model_final.predict(X_test)\r\n",
    "\r\n",
    "plt.scatter(pred, y_test)\r\n",
    "\r\n",
    "print(\"%s: %.4f \" % (\"cross_val_score\", cross_val_score(pipe, X_test, y_test).mean()) )"
   ],
   "outputs": [
    {
     "output_type": "stream",
     "name": "stdout",
     "text": [
      "cross_val_score: 0.7557 \n"
     ]
    },
    {
     "output_type": "display_data",
     "data": {
      "image/png": "[encoded data removed]",
      "text/plain": [
       "<Figure size 720x576 with 1 Axes>"
      ]
     },
     "metadata": {
      "needs_background": "light"
     }
    }
   ],
   "metadata": {}
  }
 ],
 "metadata": {
  "orig_nbformat": 4,
  "language_info": {
   "name": "python",
   "version": "3.9.7",
   "mimetype": "text/x-python",
   "codemirror_mode": {
    "name": "ipython",
    "version": 3
   },
   "pygments_lexer": "ipython3",
   "nbconvert_exporter": "python",
   "file_extension": ".py"
  },
  "kernelspec": {
   "name": "python3",
   "display_name": "Python 3.9.7 64-bit ('base': conda)"
  },
  "interpreter": {
   "hash": "f1c1c68ca1531c10549a2b89994d18956862039366dbf297ef8d569c61ae48fb"
  }
 },
 "nbformat": 4,
 "nbformat_minor": 2
}