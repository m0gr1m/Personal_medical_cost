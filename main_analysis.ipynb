{
 "cells": [
  {
   "cell_type": "markdown",
   "source": [
    "# *Personal medical cost*\r\n",
    "\r\n",
    "Health problems and the high cost of medical services make it an extremely important part of our lives to have health insurance. Not only does it help to cover the cost of any treatment or surgery, but it also gives you the peace of mind that - in the case of an accident - you won't end up with a huge bill that you'll be paying for for the next decade. \r\n",
    "\r\n",
    "**Columns:**\r\n",
    "\r\n",
    "+ **age**: age of primary beneficiary,\r\n",
    "+ **sex**: insurance contractor gender, female, male,\r\n",
    "+ **bmi**: Body mass index, providing an understanding of body, weights that are relatively high or low relative to height, objective index of body weight (kg / m ^ 2) using the ratio of height to weight, ideally 18.5 to 24.9,\r\n",
    "+ **children**: number of children covered by health insurance / Number of dependents,\r\n",
    "+ **smoker**: smoking,\r\n",
    "+ **region**: the beneficiary's residential area in the US, northeast, southeast, southwest, northwest,\r\n",
    "+ **charges**: Individual medical costs billed by health insurance.\r\n",
    "\r\n",
    "The above set of variables will not only allow us to build a regression model that determines the value of the dependent variable: charges, but it can also be used to test some interesting statistical hypotheses.\r\n",
    "\r\n",
    "## Main goal\r\n",
    "Build a regression model that determines individual medical costs billed by health insurance.\r\n",
    "\r\n",
    "## Side goal\r\n",
    "Using selected statistical tests, check whether: \r\n",
    "+ women and men differ by bmi or smoking,\r\n",
    "+ smoking is associated with being overweight,\r\n",
    "+ regions differ by the amount of insurance paid."
   ],
   "metadata": {}
  },
  {
   "cell_type": "markdown",
   "source": [
    "# libraries and data loading"
   ],
   "metadata": {}
  },
  {
   "cell_type": "code",
   "execution_count": 102,
   "source": [
    "import pandas as pd\r\n",
    "import numpy as np\r\n",
    "import matplotlib as plt\r\n",
    "import seaborn as sns\r\n",
    "from scipy.stats import kurtosis, skew, shapiro, mannwhitneyu, chi2_contingency"
   ],
   "outputs": [],
   "metadata": {}
  },
  {
   "cell_type": "code",
   "execution_count": null,
   "source": [
    "import warnings\r\n",
    "warnings.simplefilter(action=\"ignore\", category=FutureWarning)"
   ],
   "outputs": [],
   "metadata": {}
  },
  {
   "cell_type": "code",
   "execution_count": 6,
   "source": [
    "df = pd.read_csv(\"C:/Users/chole/Desktop/Personal_medical_cost/insurance.csv\")\r\n",
    "df.head()"
   ],
   "outputs": [
    {
     "output_type": "execute_result",
     "data": {
      "text/html": [
       "<div>\n",
       "<style scoped>\n",
       "    .dataframe tbody tr th:only-of-type {\n",
       "        vertical-align: middle;\n",
       "    }\n",
       "\n",
       "    .dataframe tbody tr th {\n",
       "        vertical-align: top;\n",
       "    }\n",
       "\n",
       "    .dataframe thead th {\n",
       "        text-align: right;\n",
       "    }\n",
       "</style>\n",
       "<table border=\"1\" class=\"dataframe\">\n",
       "  <thead>\n",
       "    <tr style=\"text-align: right;\">\n",
       "      <th></th>\n",
       "      <th>age</th>\n",
       "      <th>sex</th>\n",
       "      <th>bmi</th>\n",
       "      <th>children</th>\n",
       "      <th>smoker</th>\n",
       "      <th>region</th>\n",
       "      <th>charges</th>\n",
       "    </tr>\n",
       "  </thead>\n",
       "  <tbody>\n",
       "    <tr>\n",
       "      <th>0</th>\n",
       "      <td>19</td>\n",
       "      <td>female</td>\n",
       "      <td>27.900</td>\n",
       "      <td>0</td>\n",
       "      <td>yes</td>\n",
       "      <td>southwest</td>\n",
       "      <td>16884.92400</td>\n",
       "    </tr>\n",
       "    <tr>\n",
       "      <th>1</th>\n",
       "      <td>18</td>\n",
       "      <td>male</td>\n",
       "      <td>33.770</td>\n",
       "      <td>1</td>\n",
       "      <td>no</td>\n",
       "      <td>southeast</td>\n",
       "      <td>1725.55230</td>\n",
       "    </tr>\n",
       "    <tr>\n",
       "      <th>2</th>\n",
       "      <td>28</td>\n",
       "      <td>male</td>\n",
       "      <td>33.000</td>\n",
       "      <td>3</td>\n",
       "      <td>no</td>\n",
       "      <td>southeast</td>\n",
       "      <td>4449.46200</td>\n",
       "    </tr>\n",
       "    <tr>\n",
       "      <th>3</th>\n",
       "      <td>33</td>\n",
       "      <td>male</td>\n",
       "      <td>22.705</td>\n",
       "      <td>0</td>\n",
       "      <td>no</td>\n",
       "      <td>northwest</td>\n",
       "      <td>21984.47061</td>\n",
       "    </tr>\n",
       "    <tr>\n",
       "      <th>4</th>\n",
       "      <td>32</td>\n",
       "      <td>male</td>\n",
       "      <td>28.880</td>\n",
       "      <td>0</td>\n",
       "      <td>no</td>\n",
       "      <td>northwest</td>\n",
       "      <td>3866.85520</td>\n",
       "    </tr>\n",
       "  </tbody>\n",
       "</table>\n",
       "</div>"
      ],
      "text/plain": [
       "   age     sex     bmi  children smoker     region      charges\n",
       "0   19  female  27.900         0    yes  southwest  16884.92400\n",
       "1   18    male  33.770         1     no  southeast   1725.55230\n",
       "2   28    male  33.000         3     no  southeast   4449.46200\n",
       "3   33    male  22.705         0     no  northwest  21984.47061\n",
       "4   32    male  28.880         0     no  northwest   3866.85520"
      ]
     },
     "metadata": {},
     "execution_count": 6
    }
   ],
   "metadata": {}
  },
  {
   "cell_type": "code",
   "execution_count": 35,
   "source": [
    "df.shape"
   ],
   "outputs": [
    {
     "output_type": "execute_result",
     "data": {
      "text/plain": [
       "(1338, 7)"
      ]
     },
     "metadata": {},
     "execution_count": 35
    }
   ],
   "metadata": {}
  },
  {
   "cell_type": "code",
   "execution_count": 36,
   "source": [
    "df.dtypes"
   ],
   "outputs": [
    {
     "output_type": "execute_result",
     "data": {
      "text/plain": [
       "age           int64\n",
       "sex          object\n",
       "bmi         float64\n",
       "children      int64\n",
       "smoker       object\n",
       "region       object\n",
       "charges     float64\n",
       "dtype: object"
      ]
     },
     "metadata": {},
     "execution_count": 36
    }
   ],
   "metadata": {}
  },
  {
   "cell_type": "markdown",
   "source": [
    "# Basic overview"
   ],
   "metadata": {}
  },
  {
   "cell_type": "markdown",
   "source": [
    "## Uniques values\r\n",
    "\r\n",
    "We have four quality variables, so let's look at how many individual values they have."
   ],
   "metadata": {}
  },
  {
   "cell_type": "code",
   "execution_count": 7,
   "source": [
    "df.drop(columns=['age', 'bmi', 'charges']).nunique()"
   ],
   "outputs": [
    {
     "output_type": "execute_result",
     "data": {
      "text/plain": [
       "sex         2\n",
       "children    6\n",
       "smoker      2\n",
       "region      4\n",
       "dtype: int64"
      ]
     },
     "metadata": {},
     "execution_count": 7
    }
   ],
   "metadata": {}
  },
  {
   "cell_type": "code",
   "execution_count": 8,
   "source": [
    "list(df.region.unique())"
   ],
   "outputs": [
    {
     "output_type": "execute_result",
     "data": {
      "text/plain": [
       "['southwest', 'southeast', 'northwest', 'northeast']"
      ]
     },
     "metadata": {},
     "execution_count": 8
    }
   ],
   "metadata": {}
  },
  {
   "cell_type": "code",
   "execution_count": 9,
   "source": [
    "list(df.children.sort_values().unique())"
   ],
   "outputs": [
    {
     "output_type": "execute_result",
     "data": {
      "text/plain": [
       "[0, 1, 2, 3, 4, 5]"
      ]
     },
     "metadata": {},
     "execution_count": 9
    }
   ],
   "metadata": {}
  },
  {
   "cell_type": "markdown",
   "source": [
    "We have four regions and the number of children range from 0 to 5."
   ],
   "metadata": {}
  },
  {
   "cell_type": "markdown",
   "source": [
    "## Descriptive statistics"
   ],
   "metadata": {}
  },
  {
   "cell_type": "code",
   "execution_count": 10,
   "source": [
    "df.loc[:,[\"age\", \"bmi\", \"charges\"]].describe()"
   ],
   "outputs": [
    {
     "output_type": "execute_result",
     "data": {
      "text/html": [
       "<div>\n",
       "<style scoped>\n",
       "    .dataframe tbody tr th:only-of-type {\n",
       "        vertical-align: middle;\n",
       "    }\n",
       "\n",
       "    .dataframe tbody tr th {\n",
       "        vertical-align: top;\n",
       "    }\n",
       "\n",
       "    .dataframe thead th {\n",
       "        text-align: right;\n",
       "    }\n",
       "</style>\n",
       "<table border=\"1\" class=\"dataframe\">\n",
       "  <thead>\n",
       "    <tr style=\"text-align: right;\">\n",
       "      <th></th>\n",
       "      <th>age</th>\n",
       "      <th>bmi</th>\n",
       "      <th>charges</th>\n",
       "    </tr>\n",
       "  </thead>\n",
       "  <tbody>\n",
       "    <tr>\n",
       "      <th>count</th>\n",
       "      <td>1338.000000</td>\n",
       "      <td>1338.000000</td>\n",
       "      <td>1338.000000</td>\n",
       "    </tr>\n",
       "    <tr>\n",
       "      <th>mean</th>\n",
       "      <td>39.207025</td>\n",
       "      <td>30.663397</td>\n",
       "      <td>13270.422265</td>\n",
       "    </tr>\n",
       "    <tr>\n",
       "      <th>std</th>\n",
       "      <td>14.049960</td>\n",
       "      <td>6.098187</td>\n",
       "      <td>12110.011237</td>\n",
       "    </tr>\n",
       "    <tr>\n",
       "      <th>min</th>\n",
       "      <td>18.000000</td>\n",
       "      <td>15.960000</td>\n",
       "      <td>1121.873900</td>\n",
       "    </tr>\n",
       "    <tr>\n",
       "      <th>25%</th>\n",
       "      <td>27.000000</td>\n",
       "      <td>26.296250</td>\n",
       "      <td>4740.287150</td>\n",
       "    </tr>\n",
       "    <tr>\n",
       "      <th>50%</th>\n",
       "      <td>39.000000</td>\n",
       "      <td>30.400000</td>\n",
       "      <td>9382.033000</td>\n",
       "    </tr>\n",
       "    <tr>\n",
       "      <th>75%</th>\n",
       "      <td>51.000000</td>\n",
       "      <td>34.693750</td>\n",
       "      <td>16639.912515</td>\n",
       "    </tr>\n",
       "    <tr>\n",
       "      <th>max</th>\n",
       "      <td>64.000000</td>\n",
       "      <td>53.130000</td>\n",
       "      <td>63770.428010</td>\n",
       "    </tr>\n",
       "  </tbody>\n",
       "</table>\n",
       "</div>"
      ],
      "text/plain": [
       "               age          bmi       charges\n",
       "count  1338.000000  1338.000000   1338.000000\n",
       "mean     39.207025    30.663397  13270.422265\n",
       "std      14.049960     6.098187  12110.011237\n",
       "min      18.000000    15.960000   1121.873900\n",
       "25%      27.000000    26.296250   4740.287150\n",
       "50%      39.000000    30.400000   9382.033000\n",
       "75%      51.000000    34.693750  16639.912515\n",
       "max      64.000000    53.130000  63770.428010"
      ]
     },
     "metadata": {},
     "execution_count": 10
    }
   ],
   "metadata": {}
  },
  {
   "cell_type": "markdown",
   "source": [
    "On average: \r\n",
    "+ age of the respondents is 39,  \r\n",
    "+ the respondents are obese. \r\n",
    "\r\n",
    "The cost of health insurance has a very high standard deviation, so I don't think an average value would be adequate to approximate it."
   ],
   "metadata": {}
  },
  {
   "cell_type": "code",
   "execution_count": 11,
   "source": [
    "# coefficient of variation\r\n",
    "def cv(x): return np.std(x) / np.mean(x) * 100\r\n",
    "df.loc[:, [\"age\", \"bmi\", \"charges\"]].apply(cv)"
   ],
   "outputs": [
    {
     "output_type": "execute_result",
     "data": {
      "text/plain": [
       "age        35.821919\n",
       "bmi        19.880079\n",
       "charges    91.221551\n",
       "dtype: float64"
      ]
     },
     "metadata": {},
     "execution_count": 11
    }
   ],
   "metadata": {}
  },
  {
   "cell_type": "markdown",
   "source": [
    "The bmi shows the least variability."
   ],
   "metadata": {}
  },
  {
   "cell_type": "code",
   "execution_count": 12,
   "source": [
    "df.loc[:, [\"age\", \"bmi\", \"charges\"]].apply(kurtosis, bias=False)"
   ],
   "outputs": [
    {
     "output_type": "execute_result",
     "data": {
      "text/plain": [
       "age       -1.245088\n",
       "bmi       -0.050732\n",
       "charges    1.606299\n",
       "dtype: float64"
      ]
     },
     "metadata": {},
     "execution_count": 12
    }
   ],
   "metadata": {}
  },
  {
   "cell_type": "markdown",
   "source": [
    "Kurtosis is a measure of outliers. The higher its value, the more likely there are outliers in the database. The lower the value, the more the results are clustered around the mean.\r\n",
    "\r\n",
    "The safe threshold of $K=|3|$ was not exceeded for any variable."
   ],
   "metadata": {}
  },
  {
   "cell_type": "code",
   "execution_count": 13,
   "source": [
    "df.loc[:, [\"age\", \"bmi\", \"charges\"]].apply(skew, bias=False)"
   ],
   "outputs": [
    {
     "output_type": "execute_result",
     "data": {
      "text/plain": [
       "age        0.055673\n",
       "bmi        0.284047\n",
       "charges    1.515880\n",
       "dtype: float64"
      ]
     },
     "metadata": {},
     "execution_count": 13
    }
   ],
   "metadata": {}
  },
  {
   "cell_type": "markdown",
   "source": [
    "The amount of charges has a high positive skewness value so that the distribution should be stretched to the right. This means that the vast majority of cases should fall within the smaller range of payouts, but there will also be cases of large payouts."
   ],
   "metadata": {}
  },
  {
   "cell_type": "code",
   "execution_count": 28,
   "source": [
    "# alpha = 0.05\r\n",
    "# H0 = The sample comes from a normal distribution.\r\n",
    "# H1 = The sample is not coming from a normal distribution.\r\n",
    "\r\n",
    "df[[\"age\", \"bmi\", \"charges\"]].apply(shapiro, axis=0).T"
   ],
   "outputs": [
    {
     "output_type": "execute_result",
     "data": {
      "text/html": [
       "<div>\n",
       "<style scoped>\n",
       "    .dataframe tbody tr th:only-of-type {\n",
       "        vertical-align: middle;\n",
       "    }\n",
       "\n",
       "    .dataframe tbody tr th {\n",
       "        vertical-align: top;\n",
       "    }\n",
       "\n",
       "    .dataframe thead th {\n",
       "        text-align: right;\n",
       "    }\n",
       "</style>\n",
       "<table border=\"1\" class=\"dataframe\">\n",
       "  <thead>\n",
       "    <tr style=\"text-align: right;\">\n",
       "      <th></th>\n",
       "      <th>0</th>\n",
       "      <th>1</th>\n",
       "    </tr>\n",
       "  </thead>\n",
       "  <tbody>\n",
       "    <tr>\n",
       "      <th>age</th>\n",
       "      <td>0.944699</td>\n",
       "      <td>5.687480e-22</td>\n",
       "    </tr>\n",
       "    <tr>\n",
       "      <th>bmi</th>\n",
       "      <td>0.993888</td>\n",
       "      <td>2.609842e-05</td>\n",
       "    </tr>\n",
       "    <tr>\n",
       "      <th>charges</th>\n",
       "      <td>0.814688</td>\n",
       "      <td>1.150478e-36</td>\n",
       "    </tr>\n",
       "  </tbody>\n",
       "</table>\n",
       "</div>"
      ],
      "text/plain": [
       "                0             1\n",
       "age      0.944699  5.687480e-22\n",
       "bmi      0.993888  2.609842e-05\n",
       "charges  0.814688  1.150478e-36"
      ]
     },
     "metadata": {},
     "execution_count": 28
    }
   ],
   "metadata": {}
  },
  {
   "cell_type": "markdown",
   "source": [
    "column 0 - statistic <br />\r\n",
    "column 1 - p-value"
   ],
   "metadata": {}
  },
  {
   "cell_type": "code",
   "execution_count": 20,
   "source": [
    "count = 1\r\n",
    "# Removal of top and right side of axis\r\n",
    "custom_params = {\"axes.spines.right\": False, \"axes.spines.top\": False}\r\n",
    "# Setting the chart display style\r\n",
    "sns.set_style(style=\"ticks\", rc=custom_params)\r\n",
    "# Setting the chart size\r\n",
    "plt.pyplot.subplots(figsize=(8, 10))\r\n",
    "\r\n",
    "# Loop to make graphs\r\n",
    "for col in df[[\"age\", \"bmi\", \"charges\"]]:\r\n",
    "    plt.pyplot.subplot(3,1, count)\r\n",
    "    sns.kdeplot(df[col],\r\n",
    "                shade=True,\r\n",
    "                color='k')\r\n",
    "    count+=1"
   ],
   "outputs": [
    {
     "output_type": "display_data",
     "data": {
      "image/png": "[encoded data removed]",
      "text/plain": [
       "<Figure size 576x720 with 3 Axes>"
      ]
     },
     "metadata": {}
    }
   ],
   "metadata": {}
  },
  {
   "cell_type": "markdown",
   "source": [
    "Our quantitative data do not follow a normal distribution."
   ],
   "metadata": {}
  },
  {
   "cell_type": "markdown",
   "source": [
    "## Missing values"
   ],
   "metadata": {}
  },
  {
   "cell_type": "code",
   "execution_count": 16,
   "source": [
    "df.isnull().sum()/len(df)*100"
   ],
   "outputs": [
    {
     "output_type": "execute_result",
     "data": {
      "text/plain": [
       "age         0.0\n",
       "sex         0.0\n",
       "bmi         0.0\n",
       "children    0.0\n",
       "smoker      0.0\n",
       "region      0.0\n",
       "charges     0.0\n",
       "dtype: float64"
      ]
     },
     "metadata": {},
     "execution_count": 16
    }
   ],
   "metadata": {}
  },
  {
   "cell_type": "markdown",
   "source": [
    "The database is complete."
   ],
   "metadata": {}
  },
  {
   "cell_type": "markdown",
   "source": [
    "# Statistical hypotheses"
   ],
   "metadata": {}
  },
  {
   "cell_type": "code",
   "execution_count": 53,
   "source": [
    "count = 1\r\n",
    "# Removal of top and right side of axis\r\n",
    "custom_params = {\"axes.spines.right\": False, \"axes.spines.top\": False}\r\n",
    "# Setting the chart display style\r\n",
    "sns.set_style(style=\"ticks\", rc=custom_params)\r\n",
    "# Setting the chart size\r\n",
    "plt.pyplot.subplots(figsize=(14, 4))\r\n",
    "\r\n",
    "# Loop to make graphs\r\n",
    "for col in df[[\"sex\", \"smoker\", \"region\"]]:\r\n",
    "    plt.pyplot.subplot(1,3, count)\r\n",
    "    sns.countplot(df[col])\r\n",
    "    count+=1"
   ],
   "outputs": [
    {
     "output_type": "display_data",
     "data": {
      "image/png": "[encoded data removed]",
      "text/plain": [
       "<Figure size 1008x288 with 3 Axes>"
      ]
     },
     "metadata": {}
    }
   ],
   "metadata": {}
  },
  {
   "cell_type": "markdown",
   "source": [
    "We have approximately as many women as men and as many people from different regions. It is true that the *southwest* has slightly more people, but it is not a very big difference.\r\n",
    "\r\n",
    "We do, however, have far fewer people who smoke cigarettes."
   ],
   "metadata": {}
  },
  {
   "cell_type": "markdown",
   "source": [
    "## Normality test among groups\r\n",
    "\r\n",
    ">H0: the data was drawn from a normal distribution <br />\r\n",
    ">H1: the data was drawn from a non normal distribution\r\n",
    "\r\n",
    "$\\alpha = 0.05$"
   ],
   "metadata": {}
  },
  {
   "cell_type": "code",
   "execution_count": 81,
   "source": [
    "df_female = df.loc[df.loc[:,\"sex\"]==\"female\"]\r\n",
    "df_male = df.loc[df.loc[:,\"sex\"]==\"male\"]\r\n",
    "\r\n",
    "df_smoker = df.loc[df.loc[:,\"smoker\"]==\"yes\"]\r\n",
    "df_n_smoker = df.loc[df.loc[:,\"smoker\"]==\"no\"]\r\n",
    "\r\n",
    "df_southW = df.loc[df.loc[:,\"region\"]==\"southwest\"]\r\n",
    "df_southE = df.loc[df.loc[:,\"region\"]==\"southeast\"]\r\n",
    "df_northW = df.loc[df.loc[:,\"region\"]==\"northwest\"]\r\n",
    "df_northE = df.loc[df.loc[:,\"region\"]==\"northeast\"]\r\n",
    "\r\n",
    "data_sets = [df_male, df_female, df_smoker, df_n_smoker, df_southW, df_southE, df_northW, df_northE]"
   ],
   "outputs": [],
   "metadata": {}
  },
  {
   "cell_type": "code",
   "execution_count": 91,
   "source": [
    "p1 = df_male.loc[:, [\"age\", \"bmi\", \"charges\"]].apply(shapiro)\r\n",
    "print(\"Male\")\r\n",
    "print(p1)\r\n",
    "p2 = df_female.loc[:, [\"age\", \"bmi\", \"charges\"]].apply(shapiro) \r\n",
    "print(\"Female\")\r\n",
    "print(p2)\r\n",
    "p3 = df_smoker.loc[:, [\"age\", \"bmi\", \"charges\"]].apply(shapiro) \r\n",
    "print(\"Smoker\")\r\n",
    "print(p3)\r\n",
    "p4 = df_n_smoker.loc[:, [\"age\", \"bmi\", \"charges\"]].apply(shapiro) \r\n",
    "print(\"Non smoker\")\r\n",
    "print(p4)\r\n",
    "p5 = df_southW.loc[:, [\"age\", \"bmi\", \"charges\"]].apply(shapiro) \r\n",
    "print(\"southwest\")\r\n",
    "print(p5)\r\n",
    "p6 = df_southE.loc[:, [\"age\", \"bmi\", \"charges\"]].apply(shapiro) \r\n",
    "print(\"southeast\")\r\n",
    "print(p6)\r\n",
    "p7 = df_northW.loc[:, [\"age\", \"bmi\", \"charges\"]].apply(shapiro) \r\n",
    "print(\"northwest\")\r\n",
    "print(p7)\r\n",
    "p8 = df_northE.loc[:, [\"age\", \"bmi\", \"charges\"]].apply(shapiro)\r\n",
    "print(\"northeast\")\r\n",
    "print(p8)"
   ],
   "outputs": [
    {
     "output_type": "stream",
     "name": "stdout",
     "text": [
      "Male\n",
      "            age       bmi       charges\n",
      "0  9.438887e-01  0.993048  8.228140e-01\n",
      "1  2.624835e-15  0.003131  1.178851e-26\n",
      "Female\n",
      "            age       bmi       charges\n",
      "0  9.453153e-01  0.993026  8.053942e-01\n",
      "1  6.549281e-15  0.003543  1.830528e-27\n",
      "Smoker\n",
      "            age       bmi       charges\n",
      "0  9.481711e-01  0.990856  9.395522e-01\n",
      "1  2.889620e-08  0.085191  3.625188e-09\n",
      "Non smoker\n",
      "            age       bmi       charges\n",
      "0  9.429171e-01  0.994250  8.728628e-01\n",
      "1  8.044311e-20  0.000421  1.445590e-28\n",
      "southwest\n",
      "            age       bmi       charges\n",
      "0  9.407403e-01  0.994927  7.842954e-01\n",
      "1  4.063502e-10  0.363001  2.023704e-20\n",
      "southeast\n",
      "            age       bmi       charges\n",
      "0  9.451167e-01  0.991089  8.242298e-01\n",
      "1  2.290088e-10  0.027041  1.232663e-19\n",
      "northwest\n",
      "            age       bmi       charges\n",
      "0  9.386048e-01  0.995464  8.128033e-01\n",
      "1  2.394839e-10  0.465452  4.268424e-19\n",
      "northeast\n",
      "            age       bmi       charges\n",
      "0  9.445760e-01  0.992033  8.353428e-01\n",
      "1  1.133527e-09  0.079642  6.552676e-18\n"
     ]
    }
   ],
   "metadata": {}
  },
  {
   "cell_type": "markdown",
   "source": [
    "## whether women and men differ by bmi or smoking"
   ],
   "metadata": {}
  },
  {
   "cell_type": "code",
   "execution_count": 92,
   "source": [
    "print(\"Male\")\r\n",
    "print(p1)\r\n",
    "print()\r\n",
    "print(\"Female\")\r\n",
    "print(p2)"
   ],
   "outputs": [
    {
     "output_type": "stream",
     "name": "stdout",
     "text": [
      "Male\n",
      "            age       bmi       charges\n",
      "0  9.438887e-01  0.993048  8.228140e-01\n",
      "1  2.624835e-15  0.003131  1.178851e-26\n",
      "\n",
      "Female\n",
      "            age       bmi       charges\n",
      "0  9.453153e-01  0.993026  8.053942e-01\n",
      "1  6.549281e-15  0.003543  1.830528e-27\n"
     ]
    }
   ],
   "metadata": {}
  },
  {
   "cell_type": "markdown",
   "source": [
    "At the alpha level of significance, we reject H0 in favor of H1. That is, the distribution of BMI in the male and female groups does not follow a normal distribution."
   ],
   "metadata": {}
  },
  {
   "cell_type": "code",
   "execution_count": 96,
   "source": [
    "df.loc[:,[\"sex\",\"bmi\"]].groupby(\"sex\").mean()"
   ],
   "outputs": [
    {
     "output_type": "execute_result",
     "data": {
      "text/html": [
       "<div>\n",
       "<style scoped>\n",
       "    .dataframe tbody tr th:only-of-type {\n",
       "        vertical-align: middle;\n",
       "    }\n",
       "\n",
       "    .dataframe tbody tr th {\n",
       "        vertical-align: top;\n",
       "    }\n",
       "\n",
       "    .dataframe thead th {\n",
       "        text-align: right;\n",
       "    }\n",
       "</style>\n",
       "<table border=\"1\" class=\"dataframe\">\n",
       "  <thead>\n",
       "    <tr style=\"text-align: right;\">\n",
       "      <th></th>\n",
       "      <th>bmi</th>\n",
       "    </tr>\n",
       "    <tr>\n",
       "      <th>sex</th>\n",
       "      <th></th>\n",
       "    </tr>\n",
       "  </thead>\n",
       "  <tbody>\n",
       "    <tr>\n",
       "      <th>female</th>\n",
       "      <td>30.377749</td>\n",
       "    </tr>\n",
       "    <tr>\n",
       "      <th>male</th>\n",
       "      <td>30.943129</td>\n",
       "    </tr>\n",
       "  </tbody>\n",
       "</table>\n",
       "</div>"
      ],
      "text/plain": [
       "              bmi\n",
       "sex              \n",
       "female  30.377749\n",
       "male    30.943129"
      ]
     },
     "metadata": {},
     "execution_count": 96
    }
   ],
   "metadata": {}
  },
  {
   "cell_type": "markdown",
   "source": [
    "**The Mann-Whitney U test** is a nonparametric statistical significance test for determining whether two independent samples were drawn from a population with the same distribution. The test determines whether it is equally likely that any randomly selected observation from one sample will be greater or less than a sample in the other distribution [(Source)](https://machinelearningmastery.com/nonparametric-statistical-significance-tests-in-python/).\r\n",
    "\r\n",
    "> H0: the sample distributions are equal. <br />\r\n",
    "> H1: the sample distributions are not equal.\r\n",
    "\r\n",
    "$\\alpha = 0.05$"
   ],
   "metadata": {}
  },
  {
   "cell_type": "code",
   "execution_count": 98,
   "source": [
    "mannwhitneyu(df_female[[\"bmi\"]], df_male[[\"bmi\"]])"
   ],
   "outputs": [
    {
     "output_type": "execute_result",
     "data": {
      "text/plain": [
       "MannwhitneyuResult(statistic=array([212180.]), pvalue=array([0.10140128]))"
      ]
     },
     "metadata": {},
     "execution_count": 98
    }
   ],
   "metadata": {}
  },
  {
   "cell_type": "markdown",
   "source": [
    "The test result does not allow us to reject H0. It is concluded that *bmi* does not depend on *gender*. "
   ],
   "metadata": {}
  },
  {
   "cell_type": "code",
   "execution_count": 101,
   "source": [
    "smoker_gender_crosstable = pd.crosstab(df.loc[:, \"sex\"], df.loc[:, \"smoker\"])\r\n",
    "smoker_gender_crosstable"
   ],
   "outputs": [
    {
     "output_type": "execute_result",
     "data": {
      "text/html": [
       "<div>\n",
       "<style scoped>\n",
       "    .dataframe tbody tr th:only-of-type {\n",
       "        vertical-align: middle;\n",
       "    }\n",
       "\n",
       "    .dataframe tbody tr th {\n",
       "        vertical-align: top;\n",
       "    }\n",
       "\n",
       "    .dataframe thead th {\n",
       "        text-align: right;\n",
       "    }\n",
       "</style>\n",
       "<table border=\"1\" class=\"dataframe\">\n",
       "  <thead>\n",
       "    <tr style=\"text-align: right;\">\n",
       "      <th>smoker</th>\n",
       "      <th>no</th>\n",
       "      <th>yes</th>\n",
       "    </tr>\n",
       "    <tr>\n",
       "      <th>sex</th>\n",
       "      <th></th>\n",
       "      <th></th>\n",
       "    </tr>\n",
       "  </thead>\n",
       "  <tbody>\n",
       "    <tr>\n",
       "      <th>female</th>\n",
       "      <td>547</td>\n",
       "      <td>115</td>\n",
       "    </tr>\n",
       "    <tr>\n",
       "      <th>male</th>\n",
       "      <td>517</td>\n",
       "      <td>159</td>\n",
       "    </tr>\n",
       "  </tbody>\n",
       "</table>\n",
       "</div>"
      ],
      "text/plain": [
       "smoker   no  yes\n",
       "sex             \n",
       "female  547  115\n",
       "male    517  159"
      ]
     },
     "metadata": {},
     "execution_count": 101
    }
   ],
   "metadata": {}
  },
  {
   "cell_type": "markdown",
   "source": [
    "**The Chi-square test of independence** is one of the most useful statistics for testing hypotheses when the variables are nominal, as often happens in clinical research. Unlike most statistics, the Chi-squarecan provide information not only on the significance of any observed differences, but also provides detailed information on exactly which categories account for any differences found. Thus, the amount and detail of information this statistic can provide renders it one of the most useful tools in the researcher’s array of available analysis tools [(Source)](https://www.ncbi.nlm.nih.gov/pmc/articles/PMC3900058/). \r\n",
    "\r\n",
    "> H0: the features are independent. <br />\r\n",
    "> H1: the features are not independent.\r\n",
    "\r\n",
    "$\\alpha = 0.05$"
   ],
   "metadata": {}
  },
  {
   "cell_type": "code",
   "execution_count": 103,
   "source": [
    "chi2_contingency(smoker_gender_crosstable)"
   ],
   "outputs": [
    {
     "output_type": "execute_result",
     "data": {
      "text/plain": [
       "(7.39291081459996,\n",
       " 0.006548143503580696,\n",
       " 1,\n",
       " array([[526.43348281, 135.56651719],\n",
       "        [537.56651719, 138.43348281]]))"
      ]
     },
     "metadata": {},
     "execution_count": 103
    }
   ],
   "metadata": {}
  },
  {
   "cell_type": "markdown",
   "source": [
    "We reject H0 in favor of H1. Gender and smoking are dependent on each other."
   ],
   "metadata": {}
  },
  {
   "cell_type": "markdown",
   "source": [
    "## whether smoking is associated with being overweight"
   ],
   "metadata": {}
  },
  {
   "cell_type": "code",
   "execution_count": null,
   "source": [],
   "outputs": [],
   "metadata": {}
  },
  {
   "cell_type": "markdown",
   "source": [
    "## whether regions differ by the amount of insurance paid"
   ],
   "metadata": {}
  },
  {
   "cell_type": "code",
   "execution_count": null,
   "source": [],
   "outputs": [],
   "metadata": {}
  }
 ],
 "metadata": {
  "orig_nbformat": 4,
  "language_info": {
   "name": "python",
   "version": "3.9.7",
   "mimetype": "text/x-python",
   "codemirror_mode": {
    "name": "ipython",
    "version": 3
   },
   "pygments_lexer": "ipython3",
   "nbconvert_exporter": "python",
   "file_extension": ".py"
  },
  "kernelspec": {
   "name": "python3",
   "display_name": "Python 3.9.7 64-bit ('minimal_ds': conda)"
  },
  "interpreter": {
   "hash": "285cc2ffec4960d13487baf9aa0552787e5428cf9ef4f65580395d91a079d2ae"
  }
 },
 "nbformat": 4,
 "nbformat_minor": 2
}